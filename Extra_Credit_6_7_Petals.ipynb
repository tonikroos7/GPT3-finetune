{
  "cells": [
    {
      "cell_type": "code",
      "execution_count": 2,
      "metadata": {
        "colab": {
          "base_uri": "https://localhost:8080/"
        },
        "id": "pBC52TF3LVY1",
        "outputId": "da87fd1d-3d13-409e-a452-cec5b981e0f2"
      },
      "outputs": [
        {
          "name": "stdout",
          "output_type": "stream",
          "text": [
            "\u001b[2K     \u001b[90m━━━━━━━━━━━━━━━━━━━━━━━━━━━━━━━━━━━━━━━━\u001b[0m \u001b[32m92.7/92.7 KB\u001b[0m \u001b[31m3.1 MB/s\u001b[0m eta \u001b[36m0:00:00\u001b[0m\n",
            "\u001b[2K     \u001b[90m━━━━━━━━━━━━━━━━━━━━━━━━━━━━━━━━━━━━━━\u001b[0m \u001b[32m191.5/191.5 KB\u001b[0m \u001b[31m11.6 MB/s\u001b[0m eta \u001b[36m0:00:00\u001b[0m\n",
            "\u001b[2K     \u001b[90m━━━━━━━━━━━━━━━━━━━━━━━━━━━━━━━━━━━━━━\u001b[0m \u001b[32m182.4/182.4 KB\u001b[0m \u001b[31m13.2 MB/s\u001b[0m eta \u001b[36m0:00:00\u001b[0m\n",
            "\u001b[2K     \u001b[90m━━━━━━━━━━━━━━━━━━━━━━━━━━━━━━━━━━━━━━━━\u001b[0m \u001b[32m86.8/86.8 KB\u001b[0m \u001b[31m5.9 MB/s\u001b[0m eta \u001b[36m0:00:00\u001b[0m\n",
            "\u001b[2K     \u001b[90m━━━━━━━━━━━━━━━━━━━━━━━━━━━━━━━━━━━━━━━━\u001b[0m \u001b[32m9.1/9.1 MB\u001b[0m \u001b[31m55.7 MB/s\u001b[0m eta \u001b[36m0:00:00\u001b[0m\n",
            "\u001b[2K     \u001b[90m━━━━━━━━━━━━━━━━━━━━━━━━━━━━━━━━━━━━━━━━\u001b[0m \u001b[32m5.8/5.8 MB\u001b[0m \u001b[31m87.0 MB/s\u001b[0m eta \u001b[36m0:00:00\u001b[0m\n",
            "\u001b[2K     \u001b[90m━━━━━━━━━━━━━━━━━━━━━━━━━━━━━━━━━━━━━━━━\u001b[0m \u001b[32m55.9/55.9 MB\u001b[0m \u001b[31m14.2 MB/s\u001b[0m eta \u001b[36m0:00:00\u001b[0m\n",
            "\u001b[2K     \u001b[90m━━━━━━━━━━━━━━━━━━━━━━━━━━━━━━━━━━━━━━━━\u001b[0m \u001b[32m2.4/2.4 MB\u001b[0m \u001b[31m89.9 MB/s\u001b[0m eta \u001b[36m0:00:00\u001b[0m\n",
            "\u001b[2K     \u001b[90m━━━━━━━━━━━━━━━━━━━━━━━━━━━━━━━━━━━━━━━━\u001b[0m \u001b[32m4.2/4.2 MB\u001b[0m \u001b[31m74.7 MB/s\u001b[0m eta \u001b[36m0:00:00\u001b[0m\n",
            "\u001b[2K     \u001b[90m━━━━━━━━━━━━━━━━━━━━━━━━━━━━━━━━━━━━━━━━\u001b[0m \u001b[32m7.6/7.6 MB\u001b[0m \u001b[31m108.0 MB/s\u001b[0m eta \u001b[36m0:00:00\u001b[0m\n",
            "\u001b[2K     \u001b[90m━━━━━━━━━━━━━━━━━━━━━━━━━━━━━━━━━━━━━━━━\u001b[0m \u001b[32m2.4/2.4 MB\u001b[0m \u001b[31m61.1 MB/s\u001b[0m eta \u001b[36m0:00:00\u001b[0m\n",
            "\u001b[2K     \u001b[90m━━━━━━━━━━━━━━━━━━━━━━━━━━━━━━━━━━━━━━━━\u001b[0m \u001b[32m2.4/2.4 MB\u001b[0m \u001b[31m88.5 MB/s\u001b[0m eta \u001b[36m0:00:00\u001b[0m\n",
            "\u001b[2K     \u001b[90m━━━━━━━━━━━━━━━━━━━━━━━━━━━━━━━━━━━━━━━━\u001b[0m \u001b[32m2.4/2.4 MB\u001b[0m \u001b[31m87.8 MB/s\u001b[0m eta \u001b[36m0:00:00\u001b[0m\n",
            "\u001b[2K     \u001b[90m━━━━━━━━━━━━━━━━━━━━━━━━━━━━━━━━━━━━━━━━\u001b[0m \u001b[32m2.4/2.4 MB\u001b[0m \u001b[31m92.5 MB/s\u001b[0m eta \u001b[36m0:00:00\u001b[0m\n",
            "\u001b[2K     \u001b[90m━━━━━━━━━━━━━━━━━━━━━━━━━━━━━━━━━━━━━━━━\u001b[0m \u001b[32m2.4/2.4 MB\u001b[0m \u001b[31m34.5 MB/s\u001b[0m eta \u001b[36m0:00:00\u001b[0m\n",
            "\u001b[?25h  Preparing metadata (setup.py) ... \u001b[?25l\u001b[?25hdone\n",
            "\u001b[2K     \u001b[90m━━━━━━━━━━━━━━━━━━━━━━━━━━━━━━━━━━━━━━━━\u001b[0m \u001b[32m1.9/1.9 MB\u001b[0m \u001b[31m67.6 MB/s\u001b[0m eta \u001b[36m0:00:00\u001b[0m\n",
            "\u001b[?25h  Building wheel for varint (setup.py) ... \u001b[?25l\u001b[?25hdone\n",
            "Looking in indexes: https://pypi.org/simple, https://us-python.pkg.dev/colab-wheels/public/simple/\n",
            "Collecting jsonlines\n",
            "  Downloading jsonlines-3.1.0-py3-none-any.whl (8.6 kB)\n",
            "Requirement already satisfied: attrs>=19.2.0 in /usr/local/lib/python3.9/dist-packages (from jsonlines) (22.2.0)\n",
            "Installing collected packages: jsonlines\n",
            "Successfully installed jsonlines-3.1.0\n"
          ]
        }
      ],
      "source": [
        "%pip install -q petals\n",
        "!pip install jsonlines"
      ]
    },
    {
      "cell_type": "code",
      "execution_count": 3,
      "metadata": {
        "colab": {
          "base_uri": "https://localhost:8080/",
          "height": 177,
          "referenced_widgets": [
            "1db44e54785f42b88da12756237c500c",
            "224fe7320a214c2eadabed968a880fb0",
            "468750f928694858942914b8ea5909ce",
            "2c915e9e317d4a67afb9d956c7e36ca8",
            "90469f12f97540f5a229570084826b18",
            "9f53053365e44869bc54b018e21c23eb",
            "a9f226404211474fa2d8df5896d0f592",
            "ee89f84ef12d449abcb518609d3f2d9d",
            "8f1440b4f39e49f48d097edc03254ad2",
            "8297b2a3782a472694c6f360f5d4f76a",
            "69d97663e6d543cb973502ad80adf515",
            "4e9d24f6b0fa4fffa15f7c2733192290",
            "000f2c37cbd547508b248bb3d8926b6a",
            "770b5703178d4b01a5cb10d3308de5ff",
            "1bbf9bf3f15e4edfaa0f521321fbd14d",
            "b7a55f8f6a66407e9712529f4ae2b2f9",
            "296fe2ac3e664fb08f2572c8925c9f3a",
            "f3ef23c88b584c1da6154eda36264d37",
            "a9231151f0e8431fb29bd564e615ca96",
            "8001b607e4f04ab8a7b4bae44f70f9c1",
            "ec0097d429d0426e9ca4ab7d796407df",
            "84549fbffe78496ebd546adc1bf9e72a",
            "f995b5308dda472d995cd299b3d5b470",
            "1947dc6887fa4933b28099e0ac8c9662",
            "8df8334ca1494914a9318bd5d8199bfe",
            "a4190b988f2e4adfb93529d85f7e2c00",
            "2a06030b1f1245be853a3f88d6d49cb3",
            "e2e8f5060129494097cff6b0cdc12647",
            "1521822a08ed4f0a975c5214176a5790",
            "4b4f981fbe874370b89bdd798a296e6d",
            "c99d5837e9c94b829c57901dd00fa661",
            "8527468dc6684ad7b1b1b96bb0a36842",
            "73134dc6bdfb4fa5a266ccb0e3602df0",
            "0004972036104d4ea4448d5df2f628be",
            "ab745c770146474382c7d9361f3e54aa",
            "8bdc10b69f1a470f9b84d5512ce854ce",
            "d056b3a6a9004918b24e8c56374bd4ef",
            "26a951d8ad624b89b274ce677e9a18a4",
            "81ad9914f3404fec9aa073bd69ae6f78",
            "66b285f9d2134da590da420c9cfc343a",
            "d2cbb5c2037e4cceb1d155f7e8e819e4",
            "bea3ba44402f49368dddd92f1eb2fa78",
            "a07e78ba4a344f71b0454ff9a6f42d0f",
            "364421e4b1084b2fa2644780409d3c0e",
            "e8618e1b9e8f493bb37735d10cc8c6b1",
            "c8634695782446bbbf2888eb470774b0",
            "ad79ddcd88e448e49f14e2bc3513690f",
            "c4e79b04898044ffb4d9bf135fde4ea8",
            "c435922c3d264dfb8394cb7bf283e68b",
            "f2b06e4f071f4415a993397d8bf78126",
            "327d644c2a0e43c6bb7de46611fa1731",
            "c9c01354861743589e23c9f86a57f380",
            "00dd01ccba9c43588a96bd74b2365e07",
            "73594ab6bee24ebe8585dfe799b511d9",
            "d886dbed79694ba7937ca8017cada975"
          ]
        },
        "id": "2uuX1IMLLotQ",
        "outputId": "88ac68ec-b854-4e2d-f6ad-a6661ddf2752"
      },
      "outputs": [
        {
          "data": {
            "application/vnd.jupyter.widget-view+json": {
              "model_id": "1db44e54785f42b88da12756237c500c",
              "version_major": 2,
              "version_minor": 0
            },
            "text/plain": [
              "Downloading:   0%|          | 0.00/263 [00:00<?, ?B/s]"
            ]
          },
          "metadata": {},
          "output_type": "display_data"
        },
        {
          "data": {
            "application/vnd.jupyter.widget-view+json": {
              "model_id": "4e9d24f6b0fa4fffa15f7c2733192290",
              "version_major": 2,
              "version_minor": 0
            },
            "text/plain": [
              "Downloading:   0%|          | 0.00/14.5M [00:00<?, ?B/s]"
            ]
          },
          "metadata": {},
          "output_type": "display_data"
        },
        {
          "data": {
            "application/vnd.jupyter.widget-view+json": {
              "model_id": "f995b5308dda472d995cd299b3d5b470",
              "version_major": 2,
              "version_minor": 0
            },
            "text/plain": [
              "Downloading:   0%|          | 0.00/96.0 [00:00<?, ?B/s]"
            ]
          },
          "metadata": {},
          "output_type": "display_data"
        },
        {
          "data": {
            "application/vnd.jupyter.widget-view+json": {
              "model_id": "0004972036104d4ea4448d5df2f628be",
              "version_major": 2,
              "version_minor": 0
            },
            "text/plain": [
              "Downloading:   0%|          | 0.00/641 [00:00<?, ?B/s]"
            ]
          },
          "metadata": {},
          "output_type": "display_data"
        },
        {
          "data": {
            "application/vnd.jupyter.widget-view+json": {
              "model_id": "e8618e1b9e8f493bb37735d10cc8c6b1",
              "version_major": 2,
              "version_minor": 0
            },
            "text/plain": [
              "Downloading:   0%|          | 0.00/7.19G [00:00<?, ?B/s]"
            ]
          },
          "metadata": {},
          "output_type": "display_data"
        }
      ],
      "source": [
        "import torch\n",
        "from transformers import BloomTokenizerFast \n",
        "from petals import DistributedBloomForCausalLM\n",
        "import numpy as np\n",
        "\n",
        "MODEL_NAME = \"bigscience/bloom-petals\"\n",
        "tokenizer = BloomTokenizerFast.from_pretrained(MODEL_NAME)\n",
        "model = DistributedBloomForCausalLM.from_pretrained(MODEL_NAME)\n",
        "model = model.cuda()"
      ]
    },
    {
      "cell_type": "code",
      "execution_count": 4,
      "metadata": {
        "id": "JSzX-23ZROa0"
      },
      "outputs": [],
      "source": [
        "import jsonlines\n",
        "\n",
        "question,passage,answer=[],[],[]\n",
        "with jsonlines.open('train.jsonl') as f:\n",
        "    for line in f.iter():\n",
        "        question.append(line['question']) # or whatever else you'd like to do\n",
        "        passage.append(line['passage'])\n",
        "        answer.append(line['answer'])"
      ]
    },
    {
      "cell_type": "code",
      "execution_count": 5,
      "metadata": {
        "id": "6QIcC0EkSU2k"
      },
      "outputs": [],
      "source": [
        "prompt=\"passage: \\\"The tower's tilt began during construction in the 12th century, caused by an inadequate foundation on ground too soft on one side to properly support the structure's weight. The tilt increased in the decades before the structure was completed in the 14th century. It gradually increased until the structure was stabilized (and the tilt partially corrected) by efforts in the late 20th and early 21st centuries.\\\"\\nquestion: \\\"was the leaning tower of pisa built leaning\\\"\\nanswer: false\\n\\npassage: \\\"In Australia, each state has its own constitution. Each state constitution preceded the Constitution of Australia as constitutions of the then separate British colonies, but all the states ceded powers to the Parliament of Australia as part of federation in 1901.\\\"\\nquestion: \\\"does each australian state have its own constitution\\\"\\nanswer: true\\n\\npassage: \\\"Justices are nominated by the president and then confirmed by the U.S. Senate. A nomination to the Court is considered to be official when the Senate receives a signed nomination letter from the president naming the nominee, which is then entered in the Senate's record. There have been 37 unsuccessful nominations to the Supreme Court of the United States. Of these, 11 nominees were rejected in Senate roll-call votes, 11 were withdrawn by the president, and 15 lapsed at the end of a session of Congress. Six of these unsuccessful nominees were subsequently nominated and confirmed to other seats on the Court. Additionally, although confirmed, seven nominees either declined office or (in one instance) died before assuming office.\\\"\\nquestion: \\\"has any supreme court nominee not been confirmed\\\"\\nanswer: true\\n\\npassage: \\\"This list contains the top 50 accounts with the most followers on the social photo-sharing platform Instagram. As of October 2018, the most followed user is Instagram's own account, with over 260 million followers. Cristiano Ronaldo is the most followed individual, with over 144 million followers. Twelve accounts have exceeded 100 million followers on the site.\\\"\\nquestion: \\\"does anyone on instagram have 1 billion followers\\\"\\nanswer: false\\n\\npassage: \\\"Creme eggs are available annually between 1 January and Easter Day. In the UK in the 1980s, Cadbury made Creme Eggs available year-round but sales dropped and they returned to seasonal availability.\\\"\\nquestion: \\\"can you buy cadburys creme eggs all year round\\\"\\nanswer: false\\n\\npassage: \\\"Station 19 is an American action-drama television series created by Stacy McKee for ABC. McKee, Shonda Rhimes, Betsy Beers, and Paris Barclay serve as executive producers on the series, which is the second spin-off to Grey's Anatomy. Set in Seattle, the series focuses on the lives of the men and women at Seattle Fire Station 19. The series is produced by Shondaland and ABC Studios, with McKee serving as showrunner.\\\"\\nquestion: \\\"is station 19 a grey's anatomy spin off\\\"\\nanswer: true\""
      ]
    },
    {
      "cell_type": "code",
      "execution_count": 16,
      "metadata": {
        "colab": {
          "base_uri": "https://localhost:8080/",
          "height": 411
        },
        "id": "o99TKrzkRrfK",
        "outputId": "656e1bc1-6333-4107-83b0-651727a22eb1"
      },
      "outputs": [
        {
          "data": {
            "application/vnd.google.colaboratory.intrinsic+json": {
              "type": "string"
            },
            "text/plain": [
              "'passage: \"The tower\\'s tilt began during construction in the 12th century, caused by an inadequate foundation on ground too soft on one side to properly support the structure\\'s weight. The tilt increased in the decades before the structure was completed in the 14th century. It gradually increased until the structure was stabilized (and the tilt partially corrected) by efforts in the late 20th and early 21st centuries.\"\\nquestion: \"was the leaning tower of pisa built leaning\"\\nanswer: false\\n\\npassage: \"In Australia, each state has its own constitution. Each state constitution preceded the Constitution of Australia as constitutions of the then separate British colonies, but all the states ceded powers to the Parliament of Australia as part of federation in 1901.\"\\nquestion: \"does each australian state have its own constitution\"\\nanswer: true\\n\\npassage: \"Justices are nominated by the president and then confirmed by the U.S. Senate. A nomination to the Court is considered to be official when the Senate receives a signed nomination letter from the president naming the nominee, which is then entered in the Senate\\'s record. There have been 37 unsuccessful nominations to the Supreme Court of the United States. Of these, 11 nominees were rejected in Senate roll-call votes, 11 were withdrawn by the president, and 15 lapsed at the end of a session of Congress. Six of these unsuccessful nominees were subsequently nominated and confirmed to other seats on the Court. Additionally, although confirmed, seven nominees either declined office or (in one instance) died before assuming office.\"\\nquestion: \"has any supreme court nominee not been confirmed\"\\nanswer: true\\n\\npassage: \"This list contains the top 50 accounts with the most followers on the social photo-sharing platform Instagram. As of October 2018, the most followed user is Instagram\\'s own account, with over 260 million followers. Cristiano Ronaldo is the most followed individual, with over 144 million followers. Twelve accounts have exceeded 100 million followers on the site.\"\\nquestion: \"does anyone on instagram have 1 billion followers\"\\nanswer: false\\n\\npassage: \"Creme eggs are available annually between 1 January and Easter Day. In the UK in the 1980s, Cadbury made Creme Eggs available year-round but sales dropped and they returned to seasonal availability.\"\\nquestion: \"can you buy cadburys creme eggs all year round\"\\nanswer: false\\n\\npassage: \"Station 19 is an American action-drama television series created by Stacy McKee for ABC. McKee, Shonda Rhimes, Betsy Beers, and Paris Barclay serve as executive producers on the series, which is the second spin-off to Grey\\'s Anatomy. Set in Seattle, the series focuses on the lives of the men and women at Seattle Fire Station 19. The series is produced by Shondaland and ABC Studios, with McKee serving as showrunner.\"\\nquestion: \"is station 19 a grey\\'s anatomy spin off\"\\nanswer: true\\n\\npassage: Persian (/ˈpɜːrʒən, -ʃən/), also known by its endonym Farsi (فارسی fārsi (fɒːɾˈsiː) ( listen)), is one of the Western Iranian languages within the Indo-Iranian branch of the Indo-European language family. It is primarily spoken in Iran, Afghanistan (officially known as Dari since 1958), and Tajikistan (officially known as Tajiki since the Soviet era), and some other regions which historically were Persianate societies and considered part of Greater Iran. It is written in the Persian alphabet, a modified variant of the Arabic script, which itself evolved from the Aramaic alphabet.\\nquestion: do iran and afghanistan speak the same language\\nanswer: '"
            ]
          },
          "execution_count": 16,
          "metadata": {},
          "output_type": "execute_result"
        }
      ],
      "source": [
        "pmt = \"\\n\\npassage: \" + passage[0] + \"\\nquestion: \" + question[0] + \"\\nanswer: \"\n",
        "prompt + pmt"
      ]
    },
    {
      "cell_type": "code",
      "execution_count": 18,
      "metadata": {
        "id": "x9m9abjiRjbn"
      },
      "outputs": [],
      "source": [
        "inputs = tokenizer(prompt+pmt, return_tensors=\"pt\")[\"input_ids\"].cuda()\n",
        "outputs = model.generate(inputs, max_new_tokens=3)\n",
        "test = tokenizer.decode(outputs[0])"
      ]
    },
    {
      "cell_type": "code",
      "execution_count": 37,
      "metadata": {
        "colab": {
          "base_uri": "https://localhost:8080/"
        },
        "id": "AbsfvmBLUt0N",
        "outputId": "43031a9a-9f44-420b-ae34-bcd62e0f48d1"
      },
      "outputs": [
        {
          "name": "stdout",
          "output_type": "stream",
          "text": [
            "true\n"
          ]
        }
      ],
      "source": [
        "print(test[-10:-6])"
      ]
    },
    {
      "cell_type": "code",
      "execution_count": 38,
      "metadata": {
        "id": "M1ROWeUYTpqO"
      },
      "outputs": [],
      "source": [
        "output = []\n",
        "for i in range(30,60):\n",
        "  pmt = \"\\n\\npassage: \" + passage[i] + \"\\nquestion: \" + question[i] + \"\\nanswer: \"\n",
        "  inputs = tokenizer(prompt+pmt, return_tensors=\"pt\")[\"input_ids\"].cuda()\n",
        "  response = model.generate(inputs, max_new_tokens=3)\n",
        "  output.append(response)"
      ]
    },
    {
      "cell_type": "code",
      "execution_count": 78,
      "metadata": {
        "colab": {
          "base_uri": "https://localhost:8080/"
        },
        "id": "e5PkAT_yg5oM",
        "outputId": "ce1aba9b-f4d7-46ee-ea1d-d2da1f22a240"
      },
      "outputs": [
        {
          "name": "stdout",
          "output_type": "stream",
          "text": [
            "passage: \"The tower's tilt began during construction in the 12th century, caused by an inadequate foundation on ground too soft on one side to properly support the structure's weight. The tilt increased in the decades before the structure was completed in the 14th century. It gradually increased until the structure was stabilized (and the tilt partially corrected) by efforts in the late 20th and early 21st centuries.\"\n",
            "question: \"was the leaning tower of pisa built leaning\"\n",
            "answer: false\n",
            "\n",
            "passage: \"In Australia, each state has its own constitution. Each state constitution preceded the Constitution of Australia as constitutions of the then separate British colonies, but all the states ceded powers to the Parliament of Australia as part of federation in 1901.\"\n",
            "question: \"does each australian state have its own constitution\"\n",
            "answer: true\n",
            "\n",
            "passage: \"Justices are nominated by the president and then confirmed by the U.S. Senate. A nomination to the Court is considered to be official when the Senate receives a signed nomination letter from the president naming the nominee, which is then entered in the Senate's record. There have been 37 unsuccessful nominations to the Supreme Court of the United States. Of these, 11 nominees were rejected in Senate roll-call votes, 11 were withdrawn by the president, and 15 lapsed at the end of a session of Congress. Six of these unsuccessful nominees were subsequently nominated and confirmed to other seats on the Court. Additionally, although confirmed, seven nominees either declined office or (in one instance) died before assuming office.\"\n",
            "question: \"has any supreme court nominee not been confirmed\"\n",
            "answer: true\n",
            "\n",
            "passage: \"This list contains the top 50 accounts with the most followers on the social photo-sharing platform Instagram. As of October 2018, the most followed user is Instagram's own account, with over 260 million followers. Cristiano Ronaldo is the most followed individual, with over 144 million followers. Twelve accounts have exceeded 100 million followers on the site.\"\n",
            "question: \"does anyone on instagram have 1 billion followers\"\n",
            "answer: false\n",
            "\n",
            "passage: \"Creme eggs are available annually between 1 January and Easter Day. In the UK in the 1980s, Cadbury made Creme Eggs available year-round but sales dropped and they returned to seasonal availability.\"\n",
            "question: \"can you buy cadburys creme eggs all year round\"\n",
            "answer: false\n",
            "\n",
            "passage: \"Station 19 is an American action-drama television series created by Stacy McKee for ABC. McKee, Shonda Rhimes, Betsy Beers, and Paris Barclay serve as executive producers on the series, which is the second spin-off to Grey's Anatomy. Set in Seattle, the series focuses on the lives of the men and women at Seattle Fire Station 19. The series is produced by Shondaland and ABC Studios, with McKee serving as showrunner.\"\n",
            "question: \"is station 19 a grey's anatomy spin off\"\n",
            "answer: truepassage: The premise of the series is that Buffy is the latest Slayer, a young woman endowed by mystical forces with superhuman powers to fight and defeat vampires, demons, and other evil forces in the fictional town of Sunnydale. Like every Slayer before her, she was chosen and informed of her destiny when she was 15 years old. Her mother is unaware of her daughter's powers and responsibilities until Buffy is forced to tell her at the end of the second season of the television series. Although Joyce is shocked at this revelation, she recovers quickly and remains a source of stability for Buffy and Buffy's small circle of friends who assist her, dubbed the Scooby Gang. Eventually Joyce is able to take Buffy's dangerous demon-fighting in stride and even become proud and respectful of her daughter's abilities. Her natural death from an illness in the fifth season forces Buffy to face becoming an adult.\n",
            "question: does buffy's mom know she's a slayer\n",
            "answer:  true\n",
            "\n",
            "pass\n"
          ]
        }
      ],
      "source": [
        "print(tokenizer.decode(output[1][0]))"
      ]
    },
    {
      "cell_type": "code",
      "execution_count": 75,
      "metadata": {
        "id": "lv1HlWm2gSOY"
      },
      "outputs": [],
      "source": [
        "predict = []\n",
        "pred = [tokenizer.decode(i[0]) for i in output]\n",
        "for i in pred:\n",
        "  predict.append(i[-10:-6])"
      ]
    },
    {
      "cell_type": "code",
      "execution_count": 76,
      "metadata": {
        "id": "COy6j7sYjQz5"
      },
      "outputs": [],
      "source": [
        "prediction = [predict[i] in ('true') for i in range(30)]"
      ]
    },
    {
      "cell_type": "code",
      "execution_count": 77,
      "metadata": {
        "colab": {
          "base_uri": "https://localhost:8080/"
        },
        "id": "b_h4FsEIj1Zn",
        "outputId": "b23b04aa-1d13-4d9a-f84b-9f73d654cc00"
      },
      "outputs": [
        {
          "data": {
            "text/plain": [
              "0.7333333333333333"
            ]
          },
          "execution_count": 77,
          "metadata": {},
          "output_type": "execute_result"
        }
      ],
      "source": [
        "validation = np.array(answer[30:60]) == np.array(prediction)\n",
        "validation.sum() / len(validation)"
      ]
    },
    {
      "cell_type": "markdown",
      "metadata": {
        "id": "fZlzYVn0ApyF"
      },
      "source": [
        "## Extra Credit 7: Fine-tune Petals on 50 random instances from BoolQ\n",
        "\n",
        "If you'd like to talk to the model in an interactive way, you can use the __inference session__ interface. This interface provides a simple way to print generated tokens on the fly or make a chat bot that responds to human's phrases.\n",
        "\n",
        "The inference session looks for a sequence of servers that will run successive inference steps and store past attention caches. This way, you don't need to rerun previous tokens through the transformer to generate each phrase. If one of the remote servers fails, Petals will automatically find a replacement and regenerate a small part of the caches.\n",
        "\n",
        "Let's see how to use it to write a simple chat bot, showing tokens as soon as they are generated:"
      ]
    },
    {
      "cell_type": "code",
      "execution_count": 6,
      "metadata": {
        "id": "B9P8Wvl7Y5UU"
      },
      "outputs": [],
      "source": [
        "finetune_prompt = \"\"\n",
        "for i in range(70,120):\n",
        "  pmt = \"\\n\\npassage: \" + passage[i] + \"\\nquestion: \" + question[i] + \"\\nanswer: \" + str(answer[0])\n",
        "  finetune_prompt = finetune_prompt + pmt"
      ]
    },
    {
      "cell_type": "code",
      "execution_count": null,
      "metadata": {
        "id": "DcHLKcZ86Zx8"
      },
      "outputs": [],
      "source": [
        "print(finetune_prompt+test)"
      ]
    },
    {
      "cell_type": "code",
      "execution_count": null,
      "metadata": {
        "colab": {
          "base_uri": "https://localhost:8080/"
        },
        "id": "7Qo72OnTmLes",
        "outputId": "ccda4669-d860-4529-ad5d-c78ae1048dc5"
      },
      "outputs": [
        {
          "name": "stderr",
          "output_type": "stream",
          "text": [
            "Apr 01 06:29:13.484 [\u001b[1m\u001b[34mINFO\u001b[0m] Peer 12D3KooWBXHCDCerCREpypXbJ93Hudcm9bU5KWrxLajRJSvYHZqF did not respond, banning it temporarily\n",
            "Apr 01 06:29:13.486 [\u001b[1m\u001b[38;5;208mWARN\u001b[0m] [\u001b[1mpetals.client.inference_session.step:313\u001b[0m] Caught exception when running inference via RemoteSpanInfo(start=0, end=27, peer_id=<libp2p.peer.id.ID (12D3KooWBXHCDCerCREpypXbJ93Hudcm9bU5KWrxLajRJSvYHZqF)>) (retry in 0 sec): P2PHandlerError('Failed to call handler `TransformerConnectionHandler.rpc_inference` at 12D3KooWBXHCDCerCREpypXbJ93Hudcm9bU5KWrxLajRJSvYHZqF: Cannot allocate KV cache for 6791 tokens, max = 2048')\n",
            "Apr 01 06:29:13.493 [\u001b[1m\u001b[38;5;208mWARN\u001b[0m] [\u001b[1mpetals.client.routing.sequence_manager.make_sequence:121\u001b[0m] Remote SequenceManager is still searching for routes, waiting for it to become ready\n",
            "Apr 01 06:29:39.260 [\u001b[1m\u001b[34mINFO\u001b[0m] Peer 12D3KooWBXHCDCerCREpypXbJ93Hudcm9bU5KWrxLajRJSvYHZqF did not respond, banning it temporarily\n",
            "Apr 01 06:29:39.262 [\u001b[1m\u001b[38;5;208mWARN\u001b[0m] [\u001b[1mpetals.client.inference_session.step:313\u001b[0m] Caught exception when running inference via RemoteSpanInfo(start=0, end=27, peer_id=<libp2p.peer.id.ID (12D3KooWBXHCDCerCREpypXbJ93Hudcm9bU5KWrxLajRJSvYHZqF)>) (retry in 1 sec): P2PHandlerError('Failed to call handler `TransformerConnectionHandler.rpc_inference` at 12D3KooWBXHCDCerCREpypXbJ93Hudcm9bU5KWrxLajRJSvYHZqF: Cannot allocate KV cache for 6791 tokens, max = 2048')\n",
            "Apr 01 06:29:40.268 [\u001b[1m\u001b[38;5;208mWARN\u001b[0m] [\u001b[1mpetals.client.routing.sequence_manager.make_sequence:121\u001b[0m] Remote SequenceManager is still searching for routes, waiting for it to become ready\n",
            "Apr 01 06:30:10.691 [\u001b[1m\u001b[34mINFO\u001b[0m] Peer 12D3KooWBXHCDCerCREpypXbJ93Hudcm9bU5KWrxLajRJSvYHZqF did not respond, banning it temporarily\n",
            "Apr 01 06:30:10.696 [\u001b[1m\u001b[38;5;208mWARN\u001b[0m] [\u001b[1mpetals.client.inference_session.step:313\u001b[0m] Caught exception when running inference via RemoteSpanInfo(start=0, end=27, peer_id=<libp2p.peer.id.ID (12D3KooWBXHCDCerCREpypXbJ93Hudcm9bU5KWrxLajRJSvYHZqF)>) (retry in 2 sec): P2PHandlerError('Failed to call handler `TransformerConnectionHandler.rpc_inference` at 12D3KooWBXHCDCerCREpypXbJ93Hudcm9bU5KWrxLajRJSvYHZqF: Cannot allocate KV cache for 6791 tokens, max = 2048')\n",
            "Apr 01 06:30:37.861 [\u001b[1m\u001b[34mINFO\u001b[0m] Peer 12D3KooWBXHCDCerCREpypXbJ93Hudcm9bU5KWrxLajRJSvYHZqF did not respond, banning it temporarily\n",
            "Apr 01 06:30:37.862 [\u001b[1m\u001b[38;5;208mWARN\u001b[0m] [\u001b[1mpetals.client.inference_session.step:313\u001b[0m] Caught exception when running inference via RemoteSpanInfo(start=0, end=27, peer_id=<libp2p.peer.id.ID (12D3KooWBXHCDCerCREpypXbJ93Hudcm9bU5KWrxLajRJSvYHZqF)>) (retry in 4 sec): P2PHandlerError('Failed to call handler `TransformerConnectionHandler.rpc_inference` at 12D3KooWBXHCDCerCREpypXbJ93Hudcm9bU5KWrxLajRJSvYHZqF: Cannot allocate KV cache for 6791 tokens, max = 2048')\n",
            "Apr 01 06:31:07.399 [\u001b[1m\u001b[34mINFO\u001b[0m] Peer 12D3KooWBXHCDCerCREpypXbJ93Hudcm9bU5KWrxLajRJSvYHZqF did not respond, banning it temporarily\n",
            "Apr 01 06:31:07.401 [\u001b[1m\u001b[38;5;208mWARN\u001b[0m] [\u001b[1mpetals.client.inference_session.step:313\u001b[0m] Caught exception when running inference via RemoteSpanInfo(start=0, end=27, peer_id=<libp2p.peer.id.ID (12D3KooWBXHCDCerCREpypXbJ93Hudcm9bU5KWrxLajRJSvYHZqF)>) (retry in 8 sec): P2PHandlerError('Failed to call handler `TransformerConnectionHandler.rpc_inference` at 12D3KooWBXHCDCerCREpypXbJ93Hudcm9bU5KWrxLajRJSvYHZqF: Cannot allocate KV cache for 6791 tokens, max = 2048')\n",
            "Apr 01 06:31:40.883 [\u001b[1m\u001b[34mINFO\u001b[0m] Peer 12D3KooWBXHCDCerCREpypXbJ93Hudcm9bU5KWrxLajRJSvYHZqF did not respond, banning it temporarily\n",
            "Apr 01 06:31:40.884 [\u001b[1m\u001b[38;5;208mWARN\u001b[0m] [\u001b[1mpetals.client.inference_session.step:313\u001b[0m] Caught exception when running inference via RemoteSpanInfo(start=0, end=27, peer_id=<libp2p.peer.id.ID (12D3KooWBXHCDCerCREpypXbJ93Hudcm9bU5KWrxLajRJSvYHZqF)>) (retry in 16 sec): P2PHandlerError('Failed to call handler `TransformerConnectionHandler.rpc_inference` at 12D3KooWBXHCDCerCREpypXbJ93Hudcm9bU5KWrxLajRJSvYHZqF: Cannot allocate KV cache for 6791 tokens, max = 2048')\n",
            "Apr 01 06:32:22.364 [\u001b[1m\u001b[34mINFO\u001b[0m] Peer 12D3KooWBXHCDCerCREpypXbJ93Hudcm9bU5KWrxLajRJSvYHZqF did not respond, banning it temporarily\n",
            "Apr 01 06:32:22.365 [\u001b[1m\u001b[38;5;208mWARN\u001b[0m] [\u001b[1mpetals.client.inference_session.step:313\u001b[0m] Caught exception when running inference via RemoteSpanInfo(start=0, end=27, peer_id=<libp2p.peer.id.ID (12D3KooWBXHCDCerCREpypXbJ93Hudcm9bU5KWrxLajRJSvYHZqF)>) (retry in 32 sec): P2PHandlerError('Failed to call handler `TransformerConnectionHandler.rpc_inference` at 12D3KooWBXHCDCerCREpypXbJ93Hudcm9bU5KWrxLajRJSvYHZqF: Cannot allocate KV cache for 6791 tokens, max = 2048')\n",
            "Apr 01 06:33:21.506 [\u001b[1m\u001b[34mINFO\u001b[0m] Peer 12D3KooWBXHCDCerCREpypXbJ93Hudcm9bU5KWrxLajRJSvYHZqF did not respond, banning it temporarily\n",
            "Apr 01 06:33:21.507 [\u001b[1m\u001b[38;5;208mWARN\u001b[0m] [\u001b[1mpetals.client.inference_session.step:313\u001b[0m] Caught exception when running inference via RemoteSpanInfo(start=0, end=27, peer_id=<libp2p.peer.id.ID (12D3KooWBXHCDCerCREpypXbJ93Hudcm9bU5KWrxLajRJSvYHZqF)>) (retry in 64 sec): P2PHandlerError('Failed to call handler `TransformerConnectionHandler.rpc_inference` at 12D3KooWBXHCDCerCREpypXbJ93Hudcm9bU5KWrxLajRJSvYHZqF: Cannot allocate KV cache for 6791 tokens, max = 2048')\n",
            "Apr 01 06:34:51.254 [\u001b[1m\u001b[34mINFO\u001b[0m] Peer 12D3KooWBXHCDCerCREpypXbJ93Hudcm9bU5KWrxLajRJSvYHZqF did not respond, banning it temporarily\n",
            "Apr 01 06:34:51.255 [\u001b[1m\u001b[38;5;208mWARN\u001b[0m] [\u001b[1mpetals.client.inference_session.step:313\u001b[0m] Caught exception when running inference via RemoteSpanInfo(start=0, end=27, peer_id=<libp2p.peer.id.ID (12D3KooWBXHCDCerCREpypXbJ93Hudcm9bU5KWrxLajRJSvYHZqF)>) (retry in 128 sec): P2PHandlerError('Failed to call handler `TransformerConnectionHandler.rpc_inference` at 12D3KooWBXHCDCerCREpypXbJ93Hudcm9bU5KWrxLajRJSvYHZqF: Cannot allocate KV cache for 6791 tokens, max = 2048')\n",
            "Apr 01 06:37:26.106 [\u001b[1m\u001b[34mINFO\u001b[0m] Peer 12D3KooWBXHCDCerCREpypXbJ93Hudcm9bU5KWrxLajRJSvYHZqF did not respond, banning it temporarily\n",
            "Apr 01 06:37:26.107 [\u001b[1m\u001b[38;5;208mWARN\u001b[0m] [\u001b[1mpetals.client.inference_session.step:313\u001b[0m] Caught exception when running inference via RemoteSpanInfo(start=0, end=27, peer_id=<libp2p.peer.id.ID (12D3KooWBXHCDCerCREpypXbJ93Hudcm9bU5KWrxLajRJSvYHZqF)>) (retry in 256 sec): P2PHandlerError('Failed to call handler `TransformerConnectionHandler.rpc_inference` at 12D3KooWBXHCDCerCREpypXbJ93Hudcm9bU5KWrxLajRJSvYHZqF: Cannot allocate KV cache for 6791 tokens, max = 2048')\n",
            "Apr 01 06:42:07.873 [\u001b[1m\u001b[34mINFO\u001b[0m] Peer 12D3KooWBXHCDCerCREpypXbJ93Hudcm9bU5KWrxLajRJSvYHZqF did not respond, banning it temporarily\n",
            "Apr 01 06:42:07.874 [\u001b[1m\u001b[38;5;208mWARN\u001b[0m] [\u001b[1mpetals.client.inference_session.step:313\u001b[0m] Caught exception when running inference via RemoteSpanInfo(start=0, end=27, peer_id=<libp2p.peer.id.ID (12D3KooWBXHCDCerCREpypXbJ93Hudcm9bU5KWrxLajRJSvYHZqF)>) (retry in 512 sec): P2PHandlerError('Failed to call handler `TransformerConnectionHandler.rpc_inference` at 12D3KooWBXHCDCerCREpypXbJ93Hudcm9bU5KWrxLajRJSvYHZqF: Cannot allocate KV cache for 6791 tokens, max = 2048')\n",
            "Apr 01 06:51:05.627 [\u001b[1m\u001b[34mINFO\u001b[0m] Peer 12D3KooWBXHCDCerCREpypXbJ93Hudcm9bU5KWrxLajRJSvYHZqF did not respond, banning it temporarily\n",
            "Apr 01 06:51:05.629 [\u001b[1m\u001b[38;5;208mWARN\u001b[0m] [\u001b[1mpetals.client.inference_session.step:313\u001b[0m] Caught exception when running inference via RemoteSpanInfo(start=0, end=27, peer_id=<libp2p.peer.id.ID (12D3KooWBXHCDCerCREpypXbJ93Hudcm9bU5KWrxLajRJSvYHZqF)>) (retry in 900 sec): P2PHandlerError('Failed to call handler `TransformerConnectionHandler.rpc_inference` at 12D3KooWBXHCDCerCREpypXbJ93Hudcm9bU5KWrxLajRJSvYHZqF: Cannot allocate KV cache for 6791 tokens, max = 2048')\n",
            "Apr 01 07:06:31.211 [\u001b[1m\u001b[34mINFO\u001b[0m] Peer 12D3KooWBXHCDCerCREpypXbJ93Hudcm9bU5KWrxLajRJSvYHZqF did not respond, banning it temporarily\n",
            "Apr 01 07:06:31.212 [\u001b[1m\u001b[38;5;208mWARN\u001b[0m] [\u001b[1mpetals.client.inference_session.step:313\u001b[0m] Caught exception when running inference via RemoteSpanInfo(start=0, end=27, peer_id=<libp2p.peer.id.ID (12D3KooWBXHCDCerCREpypXbJ93Hudcm9bU5KWrxLajRJSvYHZqF)>) (retry in 900 sec): P2PHandlerError('Failed to call handler `TransformerConnectionHandler.rpc_inference` at 12D3KooWBXHCDCerCREpypXbJ93Hudcm9bU5KWrxLajRJSvYHZqF: Cannot allocate KV cache for 6791 tokens, max = 2048')\n",
            "Apr 01 07:21:56.765 [\u001b[1m\u001b[34mINFO\u001b[0m] Peer 12D3KooWBXHCDCerCREpypXbJ93Hudcm9bU5KWrxLajRJSvYHZqF did not respond, banning it temporarily\n",
            "Apr 01 07:21:56.766 [\u001b[1m\u001b[38;5;208mWARN\u001b[0m] [\u001b[1mpetals.client.inference_session.step:313\u001b[0m] Caught exception when running inference via RemoteSpanInfo(start=0, end=27, peer_id=<libp2p.peer.id.ID (12D3KooWBXHCDCerCREpypXbJ93Hudcm9bU5KWrxLajRJSvYHZqF)>) (retry in 900 sec): P2PHandlerError('Failed to call handler `TransformerConnectionHandler.rpc_inference` at 12D3KooWBXHCDCerCREpypXbJ93Hudcm9bU5KWrxLajRJSvYHZqF: Cannot allocate KV cache for 6791 tokens, max = 2048')\n",
            "Apr 01 07:37:22.353 [\u001b[1m\u001b[34mINFO\u001b[0m] Peer 12D3KooWBXHCDCerCREpypXbJ93Hudcm9bU5KWrxLajRJSvYHZqF did not respond, banning it temporarily\n",
            "Apr 01 07:37:22.355 [\u001b[1m\u001b[38;5;208mWARN\u001b[0m] [\u001b[1mpetals.client.inference_session.step:313\u001b[0m] Caught exception when running inference via RemoteSpanInfo(start=0, end=27, peer_id=<libp2p.peer.id.ID (12D3KooWBXHCDCerCREpypXbJ93Hudcm9bU5KWrxLajRJSvYHZqF)>) (retry in 900 sec): P2PHandlerError('Failed to call handler `TransformerConnectionHandler.rpc_inference` at 12D3KooWBXHCDCerCREpypXbJ93Hudcm9bU5KWrxLajRJSvYHZqF: Cannot allocate KV cache for 6791 tokens, max = 2048')\n",
            "Apr 01 07:52:48.089 [\u001b[1m\u001b[34mINFO\u001b[0m] Peer 12D3KooWBXHCDCerCREpypXbJ93Hudcm9bU5KWrxLajRJSvYHZqF did not respond, banning it temporarily\n",
            "Apr 01 07:52:48.090 [\u001b[1m\u001b[38;5;208mWARN\u001b[0m] [\u001b[1mpetals.client.inference_session.step:313\u001b[0m] Caught exception when running inference via RemoteSpanInfo(start=0, end=27, peer_id=<libp2p.peer.id.ID (12D3KooWBXHCDCerCREpypXbJ93Hudcm9bU5KWrxLajRJSvYHZqF)>) (retry in 900 sec): P2PHandlerError('Failed to call handler `TransformerConnectionHandler.rpc_inference` at 12D3KooWBXHCDCerCREpypXbJ93Hudcm9bU5KWrxLajRJSvYHZqF: Cannot allocate KV cache for 6791 tokens, max = 2048')\n",
            "Apr 01 08:08:14.738 [\u001b[1m\u001b[34mINFO\u001b[0m] Peer 12D3KooWBXHCDCerCREpypXbJ93Hudcm9bU5KWrxLajRJSvYHZqF did not respond, banning it temporarily\n",
            "Apr 01 08:08:14.740 [\u001b[1m\u001b[38;5;208mWARN\u001b[0m] [\u001b[1mpetals.client.inference_session.step:313\u001b[0m] Caught exception when running inference via RemoteSpanInfo(start=0, end=27, peer_id=<libp2p.peer.id.ID (12D3KooWBXHCDCerCREpypXbJ93Hudcm9bU5KWrxLajRJSvYHZqF)>) (retry in 900 sec): P2PHandlerError('Failed to call handler `TransformerConnectionHandler.rpc_inference` at 12D3KooWBXHCDCerCREpypXbJ93Hudcm9bU5KWrxLajRJSvYHZqF: Cannot allocate KV cache for 6791 tokens, max = 2048')\n",
            "Apr 01 08:23:40.493 [\u001b[1m\u001b[34mINFO\u001b[0m] Peer 12D3KooWBXHCDCerCREpypXbJ93Hudcm9bU5KWrxLajRJSvYHZqF did not respond, banning it temporarily\n",
            "Apr 01 08:23:40.494 [\u001b[1m\u001b[38;5;208mWARN\u001b[0m] [\u001b[1mpetals.client.inference_session.step:313\u001b[0m] Caught exception when running inference via RemoteSpanInfo(start=0, end=27, peer_id=<libp2p.peer.id.ID (12D3KooWBXHCDCerCREpypXbJ93Hudcm9bU5KWrxLajRJSvYHZqF)>) (retry in 900 sec): P2PHandlerError('Failed to call handler `TransformerConnectionHandler.rpc_inference` at 12D3KooWBXHCDCerCREpypXbJ93Hudcm9bU5KWrxLajRJSvYHZqF: Cannot allocate KV cache for 6791 tokens, max = 2048')\n",
            "Apr 01 08:39:06.417 [\u001b[1m\u001b[34mINFO\u001b[0m] Peer 12D3KooWBXHCDCerCREpypXbJ93Hudcm9bU5KWrxLajRJSvYHZqF did not respond, banning it temporarily\n",
            "Apr 01 08:39:06.418 [\u001b[1m\u001b[38;5;208mWARN\u001b[0m] [\u001b[1mpetals.client.inference_session.step:313\u001b[0m] Caught exception when running inference via RemoteSpanInfo(start=0, end=27, peer_id=<libp2p.peer.id.ID (12D3KooWBXHCDCerCREpypXbJ93Hudcm9bU5KWrxLajRJSvYHZqF)>) (retry in 900 sec): P2PHandlerError('Failed to call handler `TransformerConnectionHandler.rpc_inference` at 12D3KooWBXHCDCerCREpypXbJ93Hudcm9bU5KWrxLajRJSvYHZqF: Cannot allocate KV cache for 6791 tokens, max = 2048')\n",
            "Apr 01 08:54:31.941 [\u001b[1m\u001b[34mINFO\u001b[0m] Peer 12D3KooWBXHCDCerCREpypXbJ93Hudcm9bU5KWrxLajRJSvYHZqF did not respond, banning it temporarily\n",
            "Apr 01 08:54:31.942 [\u001b[1m\u001b[38;5;208mWARN\u001b[0m] [\u001b[1mpetals.client.inference_session.step:313\u001b[0m] Caught exception when running inference via RemoteSpanInfo(start=0, end=27, peer_id=<libp2p.peer.id.ID (12D3KooWBXHCDCerCREpypXbJ93Hudcm9bU5KWrxLajRJSvYHZqF)>) (retry in 900 sec): P2PHandlerError('Failed to call handler `TransformerConnectionHandler.rpc_inference` at 12D3KooWBXHCDCerCREpypXbJ93Hudcm9bU5KWrxLajRJSvYHZqF: Cannot allocate KV cache for 6791 tokens, max = 2048')\n",
            "Apr 01 09:09:58.652 [\u001b[1m\u001b[34mINFO\u001b[0m] Peer 12D3KooWBXHCDCerCREpypXbJ93Hudcm9bU5KWrxLajRJSvYHZqF did not respond, banning it temporarily\n",
            "Apr 01 09:09:58.653 [\u001b[1m\u001b[38;5;208mWARN\u001b[0m] [\u001b[1mpetals.client.inference_session.step:313\u001b[0m] Caught exception when running inference via RemoteSpanInfo(start=0, end=27, peer_id=<libp2p.peer.id.ID (12D3KooWBXHCDCerCREpypXbJ93Hudcm9bU5KWrxLajRJSvYHZqF)>) (retry in 900 sec): P2PHandlerError('Failed to call handler `TransformerConnectionHandler.rpc_inference` at 12D3KooWBXHCDCerCREpypXbJ93Hudcm9bU5KWrxLajRJSvYHZqF: Cannot allocate KV cache for 6791 tokens, max = 2048')\n",
            "Apr 01 09:27:23.158 [\u001b[1m\u001b[34mINFO\u001b[0m] Peer 12D3KooWBXHCDCerCREpypXbJ93Hudcm9bU5KWrxLajRJSvYHZqF did not respond, banning it temporarily\n",
            "Apr 01 09:27:23.160 [\u001b[1m\u001b[38;5;208mWARN\u001b[0m] [\u001b[1mpetals.client.inference_session.step:313\u001b[0m] Caught exception when running inference via RemoteSpanInfo(start=0, end=27, peer_id=<libp2p.peer.id.ID (12D3KooWBXHCDCerCREpypXbJ93Hudcm9bU5KWrxLajRJSvYHZqF)>) (retry in 900 sec): P2PHandlerError('Failed to call handler `TransformerConnectionHandler.rpc_inference` at 12D3KooWBXHCDCerCREpypXbJ93Hudcm9bU5KWrxLajRJSvYHZqF: Cannot allocate KV cache for 6791 tokens, max = 2048')\n",
            "Apr 01 09:42:57.558 [\u001b[1m\u001b[34mINFO\u001b[0m] Peer 12D3KooWBXHCDCerCREpypXbJ93Hudcm9bU5KWrxLajRJSvYHZqF did not respond, banning it temporarily\n",
            "Apr 01 09:42:57.560 [\u001b[1m\u001b[38;5;208mWARN\u001b[0m] [\u001b[1mpetals.client.inference_session.step:313\u001b[0m] Caught exception when running inference via RemoteSpanInfo(start=0, end=27, peer_id=<libp2p.peer.id.ID (12D3KooWBXHCDCerCREpypXbJ93Hudcm9bU5KWrxLajRJSvYHZqF)>) (retry in 900 sec): P2PHandlerError('Failed to call handler `TransformerConnectionHandler.rpc_inference` at 12D3KooWBXHCDCerCREpypXbJ93Hudcm9bU5KWrxLajRJSvYHZqF: Cannot allocate KV cache for 6791 tokens, max = 2048')\n",
            "Apr 01 09:58:23.328 [\u001b[1m\u001b[34mINFO\u001b[0m] Peer 12D3KooWBXHCDCerCREpypXbJ93Hudcm9bU5KWrxLajRJSvYHZqF did not respond, banning it temporarily\n",
            "Apr 01 09:58:23.330 [\u001b[1m\u001b[38;5;208mWARN\u001b[0m] [\u001b[1mpetals.client.inference_session.step:313\u001b[0m] Caught exception when running inference via RemoteSpanInfo(start=0, end=27, peer_id=<libp2p.peer.id.ID (12D3KooWBXHCDCerCREpypXbJ93Hudcm9bU5KWrxLajRJSvYHZqF)>) (retry in 900 sec): P2PHandlerError('Failed to call handler `TransformerConnectionHandler.rpc_inference` at 12D3KooWBXHCDCerCREpypXbJ93Hudcm9bU5KWrxLajRJSvYHZqF: Cannot allocate KV cache for 6791 tokens, max = 2048')\n",
            "Apr 01 10:13:59.108 [\u001b[1m\u001b[34mINFO\u001b[0m] Peer 12D3KooWBXHCDCerCREpypXbJ93Hudcm9bU5KWrxLajRJSvYHZqF did not respond, banning it temporarily\n",
            "Apr 01 10:13:59.110 [\u001b[1m\u001b[38;5;208mWARN\u001b[0m] [\u001b[1mpetals.client.inference_session.step:313\u001b[0m] Caught exception when running inference via RemoteSpanInfo(start=0, end=27, peer_id=<libp2p.peer.id.ID (12D3KooWBXHCDCerCREpypXbJ93Hudcm9bU5KWrxLajRJSvYHZqF)>) (retry in 900 sec): P2PHandlerError('Failed to call handler `TransformerConnectionHandler.rpc_inference` at 12D3KooWBXHCDCerCREpypXbJ93Hudcm9bU5KWrxLajRJSvYHZqF: Cannot allocate KV cache for 6791 tokens, max = 2048')\n"
          ]
        }
      ],
      "source": [
        "output_finetune = []\n",
        "for i in range(30,60):\n",
        "  pmt = \"\\n\\npassage: \" + passage[i] + \"\\nquestion: \" + question[i] + \"\\nanswer: \"\n",
        "  inputs = tokenizer(finetune_prompt+pmt, return_tensors=\"pt\")[\"input_ids\"].cuda()\n",
        "  response = model.generate(inputs, max_new_tokens=3)\n",
        "  output_finetune.append(tokenizer.decode(response[0]))"
      ]
    },
    {
      "cell_type": "code",
      "execution_count": 21,
      "metadata": {
        "colab": {
          "base_uri": "https://localhost:8080/"
        },
        "id": "wx43ItFA5AT8",
        "outputId": "aacf1a01-c63e-48c3-a3d8-59cb97fa4541"
      },
      "outputs": [
        {
          "name": "stdout",
          "output_type": "stream",
          "text": [
            "passage: \"The tower's tilt began during construction in the 12th century, caused by an inadequate foundation on ground too soft on one side to properly support the structure's weight. The tilt increased in the decades before the structure was completed in the 14th century. It gradually increased until the structure was stabilized (and the tilt partially corrected) by efforts in the late 20th and early 21st centuries.\"\n",
            "question: \"was the leaning tower of pisa built leaning\"\n",
            "answer: false\n",
            "\n",
            "passage: \"In Australia, each state has its own constitution. Each state constitution preceded the Constitution of Australia as constitutions of the then separate British colonies, but all the states ceded powers to the Parliament of Australia as part of federation in 1901.\"\n",
            "question: \"does each australian state have its own constitution\"\n",
            "answer: true\n",
            "\n",
            "passage: \"Justices are nominated by the president and then confirmed by the U.S. Senate. A nomination to the Court is considered to be official when the Senate receives a signed nomination letter from the president naming the nominee, which is then entered in the Senate's record. There have been 37 unsuccessful nominations to the Supreme Court of the United States. Of these, 11 nominees were rejected in Senate roll-call votes, 11 were withdrawn by the president, and 15 lapsed at the end of a session of Congress. Six of these unsuccessful nominees were subsequently nominated and confirmed to other seats on the Court. Additionally, although confirmed, seven nominees either declined office or (in one instance) died before assuming office.\"\n",
            "question: \"has any supreme court nominee not been confirmed\"\n",
            "answer: true\n",
            "\n",
            "passage: \"This list contains the top 50 accounts with the most followers on the social photo-sharing platform Instagram. As of October 2018, the most followed user is Instagram's own account, with over 260 million followers. Cristiano Ronaldo is the most followed individual, with over 144 million followers. Twelve accounts have exceeded 100 million followers on the site.\"\n",
            "question: \"does anyone on instagram have 1 billion followers\"\n",
            "answer: false\n",
            "\n",
            "passage: \"Creme eggs are available annually between 1 January and Easter Day. In the UK in the 1980s, Cadbury made Creme Eggs available year-round but sales dropped and they returned to seasonal availability.\"\n",
            "question: \"can you buy cadburys creme eggs all year round\"\n",
            "answer: false\n",
            "\n",
            "passage: \"Station 19 is an American action-drama television series created by Stacy McKee for ABC. McKee, Shonda Rhimes, Betsy Beers, and Paris Barclay serve as executive producers on the series, which is the second spin-off to Grey's Anatomy. Set in Seattle, the series focuses on the lives of the men and women at Seattle Fire Station 19. The series is produced by Shondaland and ABC Studios, with McKee serving as showrunner.\"\n",
            "question: \"is station 19 a grey's anatomy spin off\"\n",
            "answer: true\n",
            "\n",
            "passage: Several classes of antibiotics are effective in treating bubonic plague. These include aminoglycosides such as streptomycin and gentamicin, tetracyclines (especially doxycycline), and the fluoroquinolone ciprofloxacin. Mortality associated with treated cases of bubonic plague is about 1--15%, compared to a mortality of 40--60% in untreated cases.\n",
            "question: is there a treatment for the bubonic plague\n",
            "answer:  true\n",
            "\n",
            "pass\n"
          ]
        }
      ],
      "source": [
        "print(output_finetune[0])"
      ]
    },
    {
      "cell_type": "code",
      "execution_count": 19,
      "metadata": {
        "colab": {
          "base_uri": "https://localhost:8080/"
        },
        "id": "hKeZdcqn5N_l",
        "outputId": "b64322ef-accf-42e2-e9ea-0f1d94dbdb1b"
      },
      "outputs": [
        {
          "data": {
            "text/plain": [
              "0.7333333333333333"
            ]
          },
          "execution_count": 19,
          "metadata": {},
          "output_type": "execute_result"
        }
      ],
      "source": [
        "pred_finetune = []\n",
        "for i in output_finetune:\n",
        "  pred_finetune.append(i[-10:-6])\n",
        "prediction_finetune = [pred_finetune[i] in ('true') for i in range(30)]\n",
        "validation_finetune = np.array(answer[30:60]) == np.array(prediction_finetune)\n",
        "validation_finetune.sum() / len(validation_finetune)"
      ]
    }
  ],
  "metadata": {
    "accelerator": "GPU",
    "colab": {
      "provenance": []
    },
    "gpuClass": "standard",
    "kernelspec": {
      "display_name": "Python 3",
      "name": "python3"
    },
    "language_info": {
      "name": "python"
    },
    "widgets": {
      "application/vnd.jupyter.widget-state+json": {
        "0004972036104d4ea4448d5df2f628be": {
          "model_module": "@jupyter-widgets/controls",
          "model_module_version": "1.5.0",
          "model_name": "HBoxModel",
          "state": {
            "_dom_classes": [],
            "_model_module": "@jupyter-widgets/controls",
            "_model_module_version": "1.5.0",
            "_model_name": "HBoxModel",
            "_view_count": null,
            "_view_module": "@jupyter-widgets/controls",
            "_view_module_version": "1.5.0",
            "_view_name": "HBoxView",
            "box_style": "",
            "children": [
              "IPY_MODEL_ab745c770146474382c7d9361f3e54aa",
              "IPY_MODEL_8bdc10b69f1a470f9b84d5512ce854ce",
              "IPY_MODEL_d056b3a6a9004918b24e8c56374bd4ef"
            ],
            "layout": "IPY_MODEL_26a951d8ad624b89b274ce677e9a18a4"
          }
        },
        "000f2c37cbd547508b248bb3d8926b6a": {
          "model_module": "@jupyter-widgets/controls",
          "model_module_version": "1.5.0",
          "model_name": "HTMLModel",
          "state": {
            "_dom_classes": [],
            "_model_module": "@jupyter-widgets/controls",
            "_model_module_version": "1.5.0",
            "_model_name": "HTMLModel",
            "_view_count": null,
            "_view_module": "@jupyter-widgets/controls",
            "_view_module_version": "1.5.0",
            "_view_name": "HTMLView",
            "description": "",
            "description_tooltip": null,
            "layout": "IPY_MODEL_296fe2ac3e664fb08f2572c8925c9f3a",
            "placeholder": "​",
            "style": "IPY_MODEL_f3ef23c88b584c1da6154eda36264d37",
            "value": "Downloading: 100%"
          }
        },
        "00dd01ccba9c43588a96bd74b2365e07": {
          "model_module": "@jupyter-widgets/controls",
          "model_module_version": "1.5.0",
          "model_name": "ProgressStyleModel",
          "state": {
            "_model_module": "@jupyter-widgets/controls",
            "_model_module_version": "1.5.0",
            "_model_name": "ProgressStyleModel",
            "_view_count": null,
            "_view_module": "@jupyter-widgets/base",
            "_view_module_version": "1.2.0",
            "_view_name": "StyleView",
            "bar_color": null,
            "description_width": ""
          }
        },
        "1521822a08ed4f0a975c5214176a5790": {
          "model_module": "@jupyter-widgets/controls",
          "model_module_version": "1.5.0",
          "model_name": "DescriptionStyleModel",
          "state": {
            "_model_module": "@jupyter-widgets/controls",
            "_model_module_version": "1.5.0",
            "_model_name": "DescriptionStyleModel",
            "_view_count": null,
            "_view_module": "@jupyter-widgets/base",
            "_view_module_version": "1.2.0",
            "_view_name": "StyleView",
            "description_width": ""
          }
        },
        "1947dc6887fa4933b28099e0ac8c9662": {
          "model_module": "@jupyter-widgets/controls",
          "model_module_version": "1.5.0",
          "model_name": "HTMLModel",
          "state": {
            "_dom_classes": [],
            "_model_module": "@jupyter-widgets/controls",
            "_model_module_version": "1.5.0",
            "_model_name": "HTMLModel",
            "_view_count": null,
            "_view_module": "@jupyter-widgets/controls",
            "_view_module_version": "1.5.0",
            "_view_name": "HTMLView",
            "description": "",
            "description_tooltip": null,
            "layout": "IPY_MODEL_e2e8f5060129494097cff6b0cdc12647",
            "placeholder": "​",
            "style": "IPY_MODEL_1521822a08ed4f0a975c5214176a5790",
            "value": "Downloading: 100%"
          }
        },
        "1bbf9bf3f15e4edfaa0f521321fbd14d": {
          "model_module": "@jupyter-widgets/controls",
          "model_module_version": "1.5.0",
          "model_name": "HTMLModel",
          "state": {
            "_dom_classes": [],
            "_model_module": "@jupyter-widgets/controls",
            "_model_module_version": "1.5.0",
            "_model_name": "HTMLModel",
            "_view_count": null,
            "_view_module": "@jupyter-widgets/controls",
            "_view_module_version": "1.5.0",
            "_view_name": "HTMLView",
            "description": "",
            "description_tooltip": null,
            "layout": "IPY_MODEL_ec0097d429d0426e9ca4ab7d796407df",
            "placeholder": "​",
            "style": "IPY_MODEL_84549fbffe78496ebd546adc1bf9e72a",
            "value": " 14.5M/14.5M [00:00&lt;00:00, 26.8MB/s]"
          }
        },
        "1db44e54785f42b88da12756237c500c": {
          "model_module": "@jupyter-widgets/controls",
          "model_module_version": "1.5.0",
          "model_name": "HBoxModel",
          "state": {
            "_dom_classes": [],
            "_model_module": "@jupyter-widgets/controls",
            "_model_module_version": "1.5.0",
            "_model_name": "HBoxModel",
            "_view_count": null,
            "_view_module": "@jupyter-widgets/controls",
            "_view_module_version": "1.5.0",
            "_view_name": "HBoxView",
            "box_style": "",
            "children": [
              "IPY_MODEL_224fe7320a214c2eadabed968a880fb0",
              "IPY_MODEL_468750f928694858942914b8ea5909ce",
              "IPY_MODEL_2c915e9e317d4a67afb9d956c7e36ca8"
            ],
            "layout": "IPY_MODEL_90469f12f97540f5a229570084826b18"
          }
        },
        "224fe7320a214c2eadabed968a880fb0": {
          "model_module": "@jupyter-widgets/controls",
          "model_module_version": "1.5.0",
          "model_name": "HTMLModel",
          "state": {
            "_dom_classes": [],
            "_model_module": "@jupyter-widgets/controls",
            "_model_module_version": "1.5.0",
            "_model_name": "HTMLModel",
            "_view_count": null,
            "_view_module": "@jupyter-widgets/controls",
            "_view_module_version": "1.5.0",
            "_view_name": "HTMLView",
            "description": "",
            "description_tooltip": null,
            "layout": "IPY_MODEL_9f53053365e44869bc54b018e21c23eb",
            "placeholder": "​",
            "style": "IPY_MODEL_a9f226404211474fa2d8df5896d0f592",
            "value": "Downloading: 100%"
          }
        },
        "26a951d8ad624b89b274ce677e9a18a4": {
          "model_module": "@jupyter-widgets/base",
          "model_module_version": "1.2.0",
          "model_name": "LayoutModel",
          "state": {
            "_model_module": "@jupyter-widgets/base",
            "_model_module_version": "1.2.0",
            "_model_name": "LayoutModel",
            "_view_count": null,
            "_view_module": "@jupyter-widgets/base",
            "_view_module_version": "1.2.0",
            "_view_name": "LayoutView",
            "align_content": null,
            "align_items": null,
            "align_self": null,
            "border": null,
            "bottom": null,
            "display": null,
            "flex": null,
            "flex_flow": null,
            "grid_area": null,
            "grid_auto_columns": null,
            "grid_auto_flow": null,
            "grid_auto_rows": null,
            "grid_column": null,
            "grid_gap": null,
            "grid_row": null,
            "grid_template_areas": null,
            "grid_template_columns": null,
            "grid_template_rows": null,
            "height": null,
            "justify_content": null,
            "justify_items": null,
            "left": null,
            "margin": null,
            "max_height": null,
            "max_width": null,
            "min_height": null,
            "min_width": null,
            "object_fit": null,
            "object_position": null,
            "order": null,
            "overflow": null,
            "overflow_x": null,
            "overflow_y": null,
            "padding": null,
            "right": null,
            "top": null,
            "visibility": null,
            "width": null
          }
        },
        "296fe2ac3e664fb08f2572c8925c9f3a": {
          "model_module": "@jupyter-widgets/base",
          "model_module_version": "1.2.0",
          "model_name": "LayoutModel",
          "state": {
            "_model_module": "@jupyter-widgets/base",
            "_model_module_version": "1.2.0",
            "_model_name": "LayoutModel",
            "_view_count": null,
            "_view_module": "@jupyter-widgets/base",
            "_view_module_version": "1.2.0",
            "_view_name": "LayoutView",
            "align_content": null,
            "align_items": null,
            "align_self": null,
            "border": null,
            "bottom": null,
            "display": null,
            "flex": null,
            "flex_flow": null,
            "grid_area": null,
            "grid_auto_columns": null,
            "grid_auto_flow": null,
            "grid_auto_rows": null,
            "grid_column": null,
            "grid_gap": null,
            "grid_row": null,
            "grid_template_areas": null,
            "grid_template_columns": null,
            "grid_template_rows": null,
            "height": null,
            "justify_content": null,
            "justify_items": null,
            "left": null,
            "margin": null,
            "max_height": null,
            "max_width": null,
            "min_height": null,
            "min_width": null,
            "object_fit": null,
            "object_position": null,
            "order": null,
            "overflow": null,
            "overflow_x": null,
            "overflow_y": null,
            "padding": null,
            "right": null,
            "top": null,
            "visibility": null,
            "width": null
          }
        },
        "2a06030b1f1245be853a3f88d6d49cb3": {
          "model_module": "@jupyter-widgets/base",
          "model_module_version": "1.2.0",
          "model_name": "LayoutModel",
          "state": {
            "_model_module": "@jupyter-widgets/base",
            "_model_module_version": "1.2.0",
            "_model_name": "LayoutModel",
            "_view_count": null,
            "_view_module": "@jupyter-widgets/base",
            "_view_module_version": "1.2.0",
            "_view_name": "LayoutView",
            "align_content": null,
            "align_items": null,
            "align_self": null,
            "border": null,
            "bottom": null,
            "display": null,
            "flex": null,
            "flex_flow": null,
            "grid_area": null,
            "grid_auto_columns": null,
            "grid_auto_flow": null,
            "grid_auto_rows": null,
            "grid_column": null,
            "grid_gap": null,
            "grid_row": null,
            "grid_template_areas": null,
            "grid_template_columns": null,
            "grid_template_rows": null,
            "height": null,
            "justify_content": null,
            "justify_items": null,
            "left": null,
            "margin": null,
            "max_height": null,
            "max_width": null,
            "min_height": null,
            "min_width": null,
            "object_fit": null,
            "object_position": null,
            "order": null,
            "overflow": null,
            "overflow_x": null,
            "overflow_y": null,
            "padding": null,
            "right": null,
            "top": null,
            "visibility": null,
            "width": null
          }
        },
        "2c915e9e317d4a67afb9d956c7e36ca8": {
          "model_module": "@jupyter-widgets/controls",
          "model_module_version": "1.5.0",
          "model_name": "HTMLModel",
          "state": {
            "_dom_classes": [],
            "_model_module": "@jupyter-widgets/controls",
            "_model_module_version": "1.5.0",
            "_model_name": "HTMLModel",
            "_view_count": null,
            "_view_module": "@jupyter-widgets/controls",
            "_view_module_version": "1.5.0",
            "_view_name": "HTMLView",
            "description": "",
            "description_tooltip": null,
            "layout": "IPY_MODEL_8297b2a3782a472694c6f360f5d4f76a",
            "placeholder": "​",
            "style": "IPY_MODEL_69d97663e6d543cb973502ad80adf515",
            "value": " 263/263 [00:00&lt;00:00, 12.8kB/s]"
          }
        },
        "327d644c2a0e43c6bb7de46611fa1731": {
          "model_module": "@jupyter-widgets/controls",
          "model_module_version": "1.5.0",
          "model_name": "DescriptionStyleModel",
          "state": {
            "_model_module": "@jupyter-widgets/controls",
            "_model_module_version": "1.5.0",
            "_model_name": "DescriptionStyleModel",
            "_view_count": null,
            "_view_module": "@jupyter-widgets/base",
            "_view_module_version": "1.2.0",
            "_view_name": "StyleView",
            "description_width": ""
          }
        },
        "364421e4b1084b2fa2644780409d3c0e": {
          "model_module": "@jupyter-widgets/controls",
          "model_module_version": "1.5.0",
          "model_name": "DescriptionStyleModel",
          "state": {
            "_model_module": "@jupyter-widgets/controls",
            "_model_module_version": "1.5.0",
            "_model_name": "DescriptionStyleModel",
            "_view_count": null,
            "_view_module": "@jupyter-widgets/base",
            "_view_module_version": "1.2.0",
            "_view_name": "StyleView",
            "description_width": ""
          }
        },
        "468750f928694858942914b8ea5909ce": {
          "model_module": "@jupyter-widgets/controls",
          "model_module_version": "1.5.0",
          "model_name": "FloatProgressModel",
          "state": {
            "_dom_classes": [],
            "_model_module": "@jupyter-widgets/controls",
            "_model_module_version": "1.5.0",
            "_model_name": "FloatProgressModel",
            "_view_count": null,
            "_view_module": "@jupyter-widgets/controls",
            "_view_module_version": "1.5.0",
            "_view_name": "ProgressView",
            "bar_style": "success",
            "description": "",
            "description_tooltip": null,
            "layout": "IPY_MODEL_ee89f84ef12d449abcb518609d3f2d9d",
            "max": 263,
            "min": 0,
            "orientation": "horizontal",
            "style": "IPY_MODEL_8f1440b4f39e49f48d097edc03254ad2",
            "value": 263
          }
        },
        "4b4f981fbe874370b89bdd798a296e6d": {
          "model_module": "@jupyter-widgets/base",
          "model_module_version": "1.2.0",
          "model_name": "LayoutModel",
          "state": {
            "_model_module": "@jupyter-widgets/base",
            "_model_module_version": "1.2.0",
            "_model_name": "LayoutModel",
            "_view_count": null,
            "_view_module": "@jupyter-widgets/base",
            "_view_module_version": "1.2.0",
            "_view_name": "LayoutView",
            "align_content": null,
            "align_items": null,
            "align_self": null,
            "border": null,
            "bottom": null,
            "display": null,
            "flex": null,
            "flex_flow": null,
            "grid_area": null,
            "grid_auto_columns": null,
            "grid_auto_flow": null,
            "grid_auto_rows": null,
            "grid_column": null,
            "grid_gap": null,
            "grid_row": null,
            "grid_template_areas": null,
            "grid_template_columns": null,
            "grid_template_rows": null,
            "height": null,
            "justify_content": null,
            "justify_items": null,
            "left": null,
            "margin": null,
            "max_height": null,
            "max_width": null,
            "min_height": null,
            "min_width": null,
            "object_fit": null,
            "object_position": null,
            "order": null,
            "overflow": null,
            "overflow_x": null,
            "overflow_y": null,
            "padding": null,
            "right": null,
            "top": null,
            "visibility": null,
            "width": null
          }
        },
        "4e9d24f6b0fa4fffa15f7c2733192290": {
          "model_module": "@jupyter-widgets/controls",
          "model_module_version": "1.5.0",
          "model_name": "HBoxModel",
          "state": {
            "_dom_classes": [],
            "_model_module": "@jupyter-widgets/controls",
            "_model_module_version": "1.5.0",
            "_model_name": "HBoxModel",
            "_view_count": null,
            "_view_module": "@jupyter-widgets/controls",
            "_view_module_version": "1.5.0",
            "_view_name": "HBoxView",
            "box_style": "",
            "children": [
              "IPY_MODEL_000f2c37cbd547508b248bb3d8926b6a",
              "IPY_MODEL_770b5703178d4b01a5cb10d3308de5ff",
              "IPY_MODEL_1bbf9bf3f15e4edfaa0f521321fbd14d"
            ],
            "layout": "IPY_MODEL_b7a55f8f6a66407e9712529f4ae2b2f9"
          }
        },
        "66b285f9d2134da590da420c9cfc343a": {
          "model_module": "@jupyter-widgets/controls",
          "model_module_version": "1.5.0",
          "model_name": "DescriptionStyleModel",
          "state": {
            "_model_module": "@jupyter-widgets/controls",
            "_model_module_version": "1.5.0",
            "_model_name": "DescriptionStyleModel",
            "_view_count": null,
            "_view_module": "@jupyter-widgets/base",
            "_view_module_version": "1.2.0",
            "_view_name": "StyleView",
            "description_width": ""
          }
        },
        "69d97663e6d543cb973502ad80adf515": {
          "model_module": "@jupyter-widgets/controls",
          "model_module_version": "1.5.0",
          "model_name": "DescriptionStyleModel",
          "state": {
            "_model_module": "@jupyter-widgets/controls",
            "_model_module_version": "1.5.0",
            "_model_name": "DescriptionStyleModel",
            "_view_count": null,
            "_view_module": "@jupyter-widgets/base",
            "_view_module_version": "1.2.0",
            "_view_name": "StyleView",
            "description_width": ""
          }
        },
        "73134dc6bdfb4fa5a266ccb0e3602df0": {
          "model_module": "@jupyter-widgets/controls",
          "model_module_version": "1.5.0",
          "model_name": "DescriptionStyleModel",
          "state": {
            "_model_module": "@jupyter-widgets/controls",
            "_model_module_version": "1.5.0",
            "_model_name": "DescriptionStyleModel",
            "_view_count": null,
            "_view_module": "@jupyter-widgets/base",
            "_view_module_version": "1.2.0",
            "_view_name": "StyleView",
            "description_width": ""
          }
        },
        "73594ab6bee24ebe8585dfe799b511d9": {
          "model_module": "@jupyter-widgets/base",
          "model_module_version": "1.2.0",
          "model_name": "LayoutModel",
          "state": {
            "_model_module": "@jupyter-widgets/base",
            "_model_module_version": "1.2.0",
            "_model_name": "LayoutModel",
            "_view_count": null,
            "_view_module": "@jupyter-widgets/base",
            "_view_module_version": "1.2.0",
            "_view_name": "LayoutView",
            "align_content": null,
            "align_items": null,
            "align_self": null,
            "border": null,
            "bottom": null,
            "display": null,
            "flex": null,
            "flex_flow": null,
            "grid_area": null,
            "grid_auto_columns": null,
            "grid_auto_flow": null,
            "grid_auto_rows": null,
            "grid_column": null,
            "grid_gap": null,
            "grid_row": null,
            "grid_template_areas": null,
            "grid_template_columns": null,
            "grid_template_rows": null,
            "height": null,
            "justify_content": null,
            "justify_items": null,
            "left": null,
            "margin": null,
            "max_height": null,
            "max_width": null,
            "min_height": null,
            "min_width": null,
            "object_fit": null,
            "object_position": null,
            "order": null,
            "overflow": null,
            "overflow_x": null,
            "overflow_y": null,
            "padding": null,
            "right": null,
            "top": null,
            "visibility": null,
            "width": null
          }
        },
        "770b5703178d4b01a5cb10d3308de5ff": {
          "model_module": "@jupyter-widgets/controls",
          "model_module_version": "1.5.0",
          "model_name": "FloatProgressModel",
          "state": {
            "_dom_classes": [],
            "_model_module": "@jupyter-widgets/controls",
            "_model_module_version": "1.5.0",
            "_model_name": "FloatProgressModel",
            "_view_count": null,
            "_view_module": "@jupyter-widgets/controls",
            "_view_module_version": "1.5.0",
            "_view_name": "ProgressView",
            "bar_style": "success",
            "description": "",
            "description_tooltip": null,
            "layout": "IPY_MODEL_a9231151f0e8431fb29bd564e615ca96",
            "max": 14500443,
            "min": 0,
            "orientation": "horizontal",
            "style": "IPY_MODEL_8001b607e4f04ab8a7b4bae44f70f9c1",
            "value": 14500443
          }
        },
        "8001b607e4f04ab8a7b4bae44f70f9c1": {
          "model_module": "@jupyter-widgets/controls",
          "model_module_version": "1.5.0",
          "model_name": "ProgressStyleModel",
          "state": {
            "_model_module": "@jupyter-widgets/controls",
            "_model_module_version": "1.5.0",
            "_model_name": "ProgressStyleModel",
            "_view_count": null,
            "_view_module": "@jupyter-widgets/base",
            "_view_module_version": "1.2.0",
            "_view_name": "StyleView",
            "bar_color": null,
            "description_width": ""
          }
        },
        "81ad9914f3404fec9aa073bd69ae6f78": {
          "model_module": "@jupyter-widgets/base",
          "model_module_version": "1.2.0",
          "model_name": "LayoutModel",
          "state": {
            "_model_module": "@jupyter-widgets/base",
            "_model_module_version": "1.2.0",
            "_model_name": "LayoutModel",
            "_view_count": null,
            "_view_module": "@jupyter-widgets/base",
            "_view_module_version": "1.2.0",
            "_view_name": "LayoutView",
            "align_content": null,
            "align_items": null,
            "align_self": null,
            "border": null,
            "bottom": null,
            "display": null,
            "flex": null,
            "flex_flow": null,
            "grid_area": null,
            "grid_auto_columns": null,
            "grid_auto_flow": null,
            "grid_auto_rows": null,
            "grid_column": null,
            "grid_gap": null,
            "grid_row": null,
            "grid_template_areas": null,
            "grid_template_columns": null,
            "grid_template_rows": null,
            "height": null,
            "justify_content": null,
            "justify_items": null,
            "left": null,
            "margin": null,
            "max_height": null,
            "max_width": null,
            "min_height": null,
            "min_width": null,
            "object_fit": null,
            "object_position": null,
            "order": null,
            "overflow": null,
            "overflow_x": null,
            "overflow_y": null,
            "padding": null,
            "right": null,
            "top": null,
            "visibility": null,
            "width": null
          }
        },
        "8297b2a3782a472694c6f360f5d4f76a": {
          "model_module": "@jupyter-widgets/base",
          "model_module_version": "1.2.0",
          "model_name": "LayoutModel",
          "state": {
            "_model_module": "@jupyter-widgets/base",
            "_model_module_version": "1.2.0",
            "_model_name": "LayoutModel",
            "_view_count": null,
            "_view_module": "@jupyter-widgets/base",
            "_view_module_version": "1.2.0",
            "_view_name": "LayoutView",
            "align_content": null,
            "align_items": null,
            "align_self": null,
            "border": null,
            "bottom": null,
            "display": null,
            "flex": null,
            "flex_flow": null,
            "grid_area": null,
            "grid_auto_columns": null,
            "grid_auto_flow": null,
            "grid_auto_rows": null,
            "grid_column": null,
            "grid_gap": null,
            "grid_row": null,
            "grid_template_areas": null,
            "grid_template_columns": null,
            "grid_template_rows": null,
            "height": null,
            "justify_content": null,
            "justify_items": null,
            "left": null,
            "margin": null,
            "max_height": null,
            "max_width": null,
            "min_height": null,
            "min_width": null,
            "object_fit": null,
            "object_position": null,
            "order": null,
            "overflow": null,
            "overflow_x": null,
            "overflow_y": null,
            "padding": null,
            "right": null,
            "top": null,
            "visibility": null,
            "width": null
          }
        },
        "84549fbffe78496ebd546adc1bf9e72a": {
          "model_module": "@jupyter-widgets/controls",
          "model_module_version": "1.5.0",
          "model_name": "DescriptionStyleModel",
          "state": {
            "_model_module": "@jupyter-widgets/controls",
            "_model_module_version": "1.5.0",
            "_model_name": "DescriptionStyleModel",
            "_view_count": null,
            "_view_module": "@jupyter-widgets/base",
            "_view_module_version": "1.2.0",
            "_view_name": "StyleView",
            "description_width": ""
          }
        },
        "8527468dc6684ad7b1b1b96bb0a36842": {
          "model_module": "@jupyter-widgets/base",
          "model_module_version": "1.2.0",
          "model_name": "LayoutModel",
          "state": {
            "_model_module": "@jupyter-widgets/base",
            "_model_module_version": "1.2.0",
            "_model_name": "LayoutModel",
            "_view_count": null,
            "_view_module": "@jupyter-widgets/base",
            "_view_module_version": "1.2.0",
            "_view_name": "LayoutView",
            "align_content": null,
            "align_items": null,
            "align_self": null,
            "border": null,
            "bottom": null,
            "display": null,
            "flex": null,
            "flex_flow": null,
            "grid_area": null,
            "grid_auto_columns": null,
            "grid_auto_flow": null,
            "grid_auto_rows": null,
            "grid_column": null,
            "grid_gap": null,
            "grid_row": null,
            "grid_template_areas": null,
            "grid_template_columns": null,
            "grid_template_rows": null,
            "height": null,
            "justify_content": null,
            "justify_items": null,
            "left": null,
            "margin": null,
            "max_height": null,
            "max_width": null,
            "min_height": null,
            "min_width": null,
            "object_fit": null,
            "object_position": null,
            "order": null,
            "overflow": null,
            "overflow_x": null,
            "overflow_y": null,
            "padding": null,
            "right": null,
            "top": null,
            "visibility": null,
            "width": null
          }
        },
        "8bdc10b69f1a470f9b84d5512ce854ce": {
          "model_module": "@jupyter-widgets/controls",
          "model_module_version": "1.5.0",
          "model_name": "FloatProgressModel",
          "state": {
            "_dom_classes": [],
            "_model_module": "@jupyter-widgets/controls",
            "_model_module_version": "1.5.0",
            "_model_name": "FloatProgressModel",
            "_view_count": null,
            "_view_module": "@jupyter-widgets/controls",
            "_view_module_version": "1.5.0",
            "_view_name": "ProgressView",
            "bar_style": "success",
            "description": "",
            "description_tooltip": null,
            "layout": "IPY_MODEL_d2cbb5c2037e4cceb1d155f7e8e819e4",
            "max": 641,
            "min": 0,
            "orientation": "horizontal",
            "style": "IPY_MODEL_bea3ba44402f49368dddd92f1eb2fa78",
            "value": 641
          }
        },
        "8df8334ca1494914a9318bd5d8199bfe": {
          "model_module": "@jupyter-widgets/controls",
          "model_module_version": "1.5.0",
          "model_name": "FloatProgressModel",
          "state": {
            "_dom_classes": [],
            "_model_module": "@jupyter-widgets/controls",
            "_model_module_version": "1.5.0",
            "_model_name": "FloatProgressModel",
            "_view_count": null,
            "_view_module": "@jupyter-widgets/controls",
            "_view_module_version": "1.5.0",
            "_view_name": "ProgressView",
            "bar_style": "success",
            "description": "",
            "description_tooltip": null,
            "layout": "IPY_MODEL_4b4f981fbe874370b89bdd798a296e6d",
            "max": 96,
            "min": 0,
            "orientation": "horizontal",
            "style": "IPY_MODEL_c99d5837e9c94b829c57901dd00fa661",
            "value": 96
          }
        },
        "8f1440b4f39e49f48d097edc03254ad2": {
          "model_module": "@jupyter-widgets/controls",
          "model_module_version": "1.5.0",
          "model_name": "ProgressStyleModel",
          "state": {
            "_model_module": "@jupyter-widgets/controls",
            "_model_module_version": "1.5.0",
            "_model_name": "ProgressStyleModel",
            "_view_count": null,
            "_view_module": "@jupyter-widgets/base",
            "_view_module_version": "1.2.0",
            "_view_name": "StyleView",
            "bar_color": null,
            "description_width": ""
          }
        },
        "90469f12f97540f5a229570084826b18": {
          "model_module": "@jupyter-widgets/base",
          "model_module_version": "1.2.0",
          "model_name": "LayoutModel",
          "state": {
            "_model_module": "@jupyter-widgets/base",
            "_model_module_version": "1.2.0",
            "_model_name": "LayoutModel",
            "_view_count": null,
            "_view_module": "@jupyter-widgets/base",
            "_view_module_version": "1.2.0",
            "_view_name": "LayoutView",
            "align_content": null,
            "align_items": null,
            "align_self": null,
            "border": null,
            "bottom": null,
            "display": null,
            "flex": null,
            "flex_flow": null,
            "grid_area": null,
            "grid_auto_columns": null,
            "grid_auto_flow": null,
            "grid_auto_rows": null,
            "grid_column": null,
            "grid_gap": null,
            "grid_row": null,
            "grid_template_areas": null,
            "grid_template_columns": null,
            "grid_template_rows": null,
            "height": null,
            "justify_content": null,
            "justify_items": null,
            "left": null,
            "margin": null,
            "max_height": null,
            "max_width": null,
            "min_height": null,
            "min_width": null,
            "object_fit": null,
            "object_position": null,
            "order": null,
            "overflow": null,
            "overflow_x": null,
            "overflow_y": null,
            "padding": null,
            "right": null,
            "top": null,
            "visibility": null,
            "width": null
          }
        },
        "9f53053365e44869bc54b018e21c23eb": {
          "model_module": "@jupyter-widgets/base",
          "model_module_version": "1.2.0",
          "model_name": "LayoutModel",
          "state": {
            "_model_module": "@jupyter-widgets/base",
            "_model_module_version": "1.2.0",
            "_model_name": "LayoutModel",
            "_view_count": null,
            "_view_module": "@jupyter-widgets/base",
            "_view_module_version": "1.2.0",
            "_view_name": "LayoutView",
            "align_content": null,
            "align_items": null,
            "align_self": null,
            "border": null,
            "bottom": null,
            "display": null,
            "flex": null,
            "flex_flow": null,
            "grid_area": null,
            "grid_auto_columns": null,
            "grid_auto_flow": null,
            "grid_auto_rows": null,
            "grid_column": null,
            "grid_gap": null,
            "grid_row": null,
            "grid_template_areas": null,
            "grid_template_columns": null,
            "grid_template_rows": null,
            "height": null,
            "justify_content": null,
            "justify_items": null,
            "left": null,
            "margin": null,
            "max_height": null,
            "max_width": null,
            "min_height": null,
            "min_width": null,
            "object_fit": null,
            "object_position": null,
            "order": null,
            "overflow": null,
            "overflow_x": null,
            "overflow_y": null,
            "padding": null,
            "right": null,
            "top": null,
            "visibility": null,
            "width": null
          }
        },
        "a07e78ba4a344f71b0454ff9a6f42d0f": {
          "model_module": "@jupyter-widgets/base",
          "model_module_version": "1.2.0",
          "model_name": "LayoutModel",
          "state": {
            "_model_module": "@jupyter-widgets/base",
            "_model_module_version": "1.2.0",
            "_model_name": "LayoutModel",
            "_view_count": null,
            "_view_module": "@jupyter-widgets/base",
            "_view_module_version": "1.2.0",
            "_view_name": "LayoutView",
            "align_content": null,
            "align_items": null,
            "align_self": null,
            "border": null,
            "bottom": null,
            "display": null,
            "flex": null,
            "flex_flow": null,
            "grid_area": null,
            "grid_auto_columns": null,
            "grid_auto_flow": null,
            "grid_auto_rows": null,
            "grid_column": null,
            "grid_gap": null,
            "grid_row": null,
            "grid_template_areas": null,
            "grid_template_columns": null,
            "grid_template_rows": null,
            "height": null,
            "justify_content": null,
            "justify_items": null,
            "left": null,
            "margin": null,
            "max_height": null,
            "max_width": null,
            "min_height": null,
            "min_width": null,
            "object_fit": null,
            "object_position": null,
            "order": null,
            "overflow": null,
            "overflow_x": null,
            "overflow_y": null,
            "padding": null,
            "right": null,
            "top": null,
            "visibility": null,
            "width": null
          }
        },
        "a4190b988f2e4adfb93529d85f7e2c00": {
          "model_module": "@jupyter-widgets/controls",
          "model_module_version": "1.5.0",
          "model_name": "HTMLModel",
          "state": {
            "_dom_classes": [],
            "_model_module": "@jupyter-widgets/controls",
            "_model_module_version": "1.5.0",
            "_model_name": "HTMLModel",
            "_view_count": null,
            "_view_module": "@jupyter-widgets/controls",
            "_view_module_version": "1.5.0",
            "_view_name": "HTMLView",
            "description": "",
            "description_tooltip": null,
            "layout": "IPY_MODEL_8527468dc6684ad7b1b1b96bb0a36842",
            "placeholder": "​",
            "style": "IPY_MODEL_73134dc6bdfb4fa5a266ccb0e3602df0",
            "value": " 96.0/96.0 [00:00&lt;00:00, 5.97kB/s]"
          }
        },
        "a9231151f0e8431fb29bd564e615ca96": {
          "model_module": "@jupyter-widgets/base",
          "model_module_version": "1.2.0",
          "model_name": "LayoutModel",
          "state": {
            "_model_module": "@jupyter-widgets/base",
            "_model_module_version": "1.2.0",
            "_model_name": "LayoutModel",
            "_view_count": null,
            "_view_module": "@jupyter-widgets/base",
            "_view_module_version": "1.2.0",
            "_view_name": "LayoutView",
            "align_content": null,
            "align_items": null,
            "align_self": null,
            "border": null,
            "bottom": null,
            "display": null,
            "flex": null,
            "flex_flow": null,
            "grid_area": null,
            "grid_auto_columns": null,
            "grid_auto_flow": null,
            "grid_auto_rows": null,
            "grid_column": null,
            "grid_gap": null,
            "grid_row": null,
            "grid_template_areas": null,
            "grid_template_columns": null,
            "grid_template_rows": null,
            "height": null,
            "justify_content": null,
            "justify_items": null,
            "left": null,
            "margin": null,
            "max_height": null,
            "max_width": null,
            "min_height": null,
            "min_width": null,
            "object_fit": null,
            "object_position": null,
            "order": null,
            "overflow": null,
            "overflow_x": null,
            "overflow_y": null,
            "padding": null,
            "right": null,
            "top": null,
            "visibility": null,
            "width": null
          }
        },
        "a9f226404211474fa2d8df5896d0f592": {
          "model_module": "@jupyter-widgets/controls",
          "model_module_version": "1.5.0",
          "model_name": "DescriptionStyleModel",
          "state": {
            "_model_module": "@jupyter-widgets/controls",
            "_model_module_version": "1.5.0",
            "_model_name": "DescriptionStyleModel",
            "_view_count": null,
            "_view_module": "@jupyter-widgets/base",
            "_view_module_version": "1.2.0",
            "_view_name": "StyleView",
            "description_width": ""
          }
        },
        "ab745c770146474382c7d9361f3e54aa": {
          "model_module": "@jupyter-widgets/controls",
          "model_module_version": "1.5.0",
          "model_name": "HTMLModel",
          "state": {
            "_dom_classes": [],
            "_model_module": "@jupyter-widgets/controls",
            "_model_module_version": "1.5.0",
            "_model_name": "HTMLModel",
            "_view_count": null,
            "_view_module": "@jupyter-widgets/controls",
            "_view_module_version": "1.5.0",
            "_view_name": "HTMLView",
            "description": "",
            "description_tooltip": null,
            "layout": "IPY_MODEL_81ad9914f3404fec9aa073bd69ae6f78",
            "placeholder": "​",
            "style": "IPY_MODEL_66b285f9d2134da590da420c9cfc343a",
            "value": "Downloading: 100%"
          }
        },
        "ad79ddcd88e448e49f14e2bc3513690f": {
          "model_module": "@jupyter-widgets/controls",
          "model_module_version": "1.5.0",
          "model_name": "FloatProgressModel",
          "state": {
            "_dom_classes": [],
            "_model_module": "@jupyter-widgets/controls",
            "_model_module_version": "1.5.0",
            "_model_name": "FloatProgressModel",
            "_view_count": null,
            "_view_module": "@jupyter-widgets/controls",
            "_view_module_version": "1.5.0",
            "_view_name": "ProgressView",
            "bar_style": "success",
            "description": "",
            "description_tooltip": null,
            "layout": "IPY_MODEL_c9c01354861743589e23c9f86a57f380",
            "max": 7193348019,
            "min": 0,
            "orientation": "horizontal",
            "style": "IPY_MODEL_00dd01ccba9c43588a96bd74b2365e07",
            "value": 7193348019
          }
        },
        "b7a55f8f6a66407e9712529f4ae2b2f9": {
          "model_module": "@jupyter-widgets/base",
          "model_module_version": "1.2.0",
          "model_name": "LayoutModel",
          "state": {
            "_model_module": "@jupyter-widgets/base",
            "_model_module_version": "1.2.0",
            "_model_name": "LayoutModel",
            "_view_count": null,
            "_view_module": "@jupyter-widgets/base",
            "_view_module_version": "1.2.0",
            "_view_name": "LayoutView",
            "align_content": null,
            "align_items": null,
            "align_self": null,
            "border": null,
            "bottom": null,
            "display": null,
            "flex": null,
            "flex_flow": null,
            "grid_area": null,
            "grid_auto_columns": null,
            "grid_auto_flow": null,
            "grid_auto_rows": null,
            "grid_column": null,
            "grid_gap": null,
            "grid_row": null,
            "grid_template_areas": null,
            "grid_template_columns": null,
            "grid_template_rows": null,
            "height": null,
            "justify_content": null,
            "justify_items": null,
            "left": null,
            "margin": null,
            "max_height": null,
            "max_width": null,
            "min_height": null,
            "min_width": null,
            "object_fit": null,
            "object_position": null,
            "order": null,
            "overflow": null,
            "overflow_x": null,
            "overflow_y": null,
            "padding": null,
            "right": null,
            "top": null,
            "visibility": null,
            "width": null
          }
        },
        "bea3ba44402f49368dddd92f1eb2fa78": {
          "model_module": "@jupyter-widgets/controls",
          "model_module_version": "1.5.0",
          "model_name": "ProgressStyleModel",
          "state": {
            "_model_module": "@jupyter-widgets/controls",
            "_model_module_version": "1.5.0",
            "_model_name": "ProgressStyleModel",
            "_view_count": null,
            "_view_module": "@jupyter-widgets/base",
            "_view_module_version": "1.2.0",
            "_view_name": "StyleView",
            "bar_color": null,
            "description_width": ""
          }
        },
        "c435922c3d264dfb8394cb7bf283e68b": {
          "model_module": "@jupyter-widgets/base",
          "model_module_version": "1.2.0",
          "model_name": "LayoutModel",
          "state": {
            "_model_module": "@jupyter-widgets/base",
            "_model_module_version": "1.2.0",
            "_model_name": "LayoutModel",
            "_view_count": null,
            "_view_module": "@jupyter-widgets/base",
            "_view_module_version": "1.2.0",
            "_view_name": "LayoutView",
            "align_content": null,
            "align_items": null,
            "align_self": null,
            "border": null,
            "bottom": null,
            "display": null,
            "flex": null,
            "flex_flow": null,
            "grid_area": null,
            "grid_auto_columns": null,
            "grid_auto_flow": null,
            "grid_auto_rows": null,
            "grid_column": null,
            "grid_gap": null,
            "grid_row": null,
            "grid_template_areas": null,
            "grid_template_columns": null,
            "grid_template_rows": null,
            "height": null,
            "justify_content": null,
            "justify_items": null,
            "left": null,
            "margin": null,
            "max_height": null,
            "max_width": null,
            "min_height": null,
            "min_width": null,
            "object_fit": null,
            "object_position": null,
            "order": null,
            "overflow": null,
            "overflow_x": null,
            "overflow_y": null,
            "padding": null,
            "right": null,
            "top": null,
            "visibility": null,
            "width": null
          }
        },
        "c4e79b04898044ffb4d9bf135fde4ea8": {
          "model_module": "@jupyter-widgets/controls",
          "model_module_version": "1.5.0",
          "model_name": "HTMLModel",
          "state": {
            "_dom_classes": [],
            "_model_module": "@jupyter-widgets/controls",
            "_model_module_version": "1.5.0",
            "_model_name": "HTMLModel",
            "_view_count": null,
            "_view_module": "@jupyter-widgets/controls",
            "_view_module_version": "1.5.0",
            "_view_name": "HTMLView",
            "description": "",
            "description_tooltip": null,
            "layout": "IPY_MODEL_73594ab6bee24ebe8585dfe799b511d9",
            "placeholder": "​",
            "style": "IPY_MODEL_d886dbed79694ba7937ca8017cada975",
            "value": " 7.19G/7.19G [02:05&lt;00:00, 71.3MB/s]"
          }
        },
        "c8634695782446bbbf2888eb470774b0": {
          "model_module": "@jupyter-widgets/controls",
          "model_module_version": "1.5.0",
          "model_name": "HTMLModel",
          "state": {
            "_dom_classes": [],
            "_model_module": "@jupyter-widgets/controls",
            "_model_module_version": "1.5.0",
            "_model_name": "HTMLModel",
            "_view_count": null,
            "_view_module": "@jupyter-widgets/controls",
            "_view_module_version": "1.5.0",
            "_view_name": "HTMLView",
            "description": "",
            "description_tooltip": null,
            "layout": "IPY_MODEL_f2b06e4f071f4415a993397d8bf78126",
            "placeholder": "​",
            "style": "IPY_MODEL_327d644c2a0e43c6bb7de46611fa1731",
            "value": "Downloading: 100%"
          }
        },
        "c99d5837e9c94b829c57901dd00fa661": {
          "model_module": "@jupyter-widgets/controls",
          "model_module_version": "1.5.0",
          "model_name": "ProgressStyleModel",
          "state": {
            "_model_module": "@jupyter-widgets/controls",
            "_model_module_version": "1.5.0",
            "_model_name": "ProgressStyleModel",
            "_view_count": null,
            "_view_module": "@jupyter-widgets/base",
            "_view_module_version": "1.2.0",
            "_view_name": "StyleView",
            "bar_color": null,
            "description_width": ""
          }
        },
        "c9c01354861743589e23c9f86a57f380": {
          "model_module": "@jupyter-widgets/base",
          "model_module_version": "1.2.0",
          "model_name": "LayoutModel",
          "state": {
            "_model_module": "@jupyter-widgets/base",
            "_model_module_version": "1.2.0",
            "_model_name": "LayoutModel",
            "_view_count": null,
            "_view_module": "@jupyter-widgets/base",
            "_view_module_version": "1.2.0",
            "_view_name": "LayoutView",
            "align_content": null,
            "align_items": null,
            "align_self": null,
            "border": null,
            "bottom": null,
            "display": null,
            "flex": null,
            "flex_flow": null,
            "grid_area": null,
            "grid_auto_columns": null,
            "grid_auto_flow": null,
            "grid_auto_rows": null,
            "grid_column": null,
            "grid_gap": null,
            "grid_row": null,
            "grid_template_areas": null,
            "grid_template_columns": null,
            "grid_template_rows": null,
            "height": null,
            "justify_content": null,
            "justify_items": null,
            "left": null,
            "margin": null,
            "max_height": null,
            "max_width": null,
            "min_height": null,
            "min_width": null,
            "object_fit": null,
            "object_position": null,
            "order": null,
            "overflow": null,
            "overflow_x": null,
            "overflow_y": null,
            "padding": null,
            "right": null,
            "top": null,
            "visibility": null,
            "width": null
          }
        },
        "d056b3a6a9004918b24e8c56374bd4ef": {
          "model_module": "@jupyter-widgets/controls",
          "model_module_version": "1.5.0",
          "model_name": "HTMLModel",
          "state": {
            "_dom_classes": [],
            "_model_module": "@jupyter-widgets/controls",
            "_model_module_version": "1.5.0",
            "_model_name": "HTMLModel",
            "_view_count": null,
            "_view_module": "@jupyter-widgets/controls",
            "_view_module_version": "1.5.0",
            "_view_name": "HTMLView",
            "description": "",
            "description_tooltip": null,
            "layout": "IPY_MODEL_a07e78ba4a344f71b0454ff9a6f42d0f",
            "placeholder": "​",
            "style": "IPY_MODEL_364421e4b1084b2fa2644780409d3c0e",
            "value": " 641/641 [00:00&lt;00:00, 45.1kB/s]"
          }
        },
        "d2cbb5c2037e4cceb1d155f7e8e819e4": {
          "model_module": "@jupyter-widgets/base",
          "model_module_version": "1.2.0",
          "model_name": "LayoutModel",
          "state": {
            "_model_module": "@jupyter-widgets/base",
            "_model_module_version": "1.2.0",
            "_model_name": "LayoutModel",
            "_view_count": null,
            "_view_module": "@jupyter-widgets/base",
            "_view_module_version": "1.2.0",
            "_view_name": "LayoutView",
            "align_content": null,
            "align_items": null,
            "align_self": null,
            "border": null,
            "bottom": null,
            "display": null,
            "flex": null,
            "flex_flow": null,
            "grid_area": null,
            "grid_auto_columns": null,
            "grid_auto_flow": null,
            "grid_auto_rows": null,
            "grid_column": null,
            "grid_gap": null,
            "grid_row": null,
            "grid_template_areas": null,
            "grid_template_columns": null,
            "grid_template_rows": null,
            "height": null,
            "justify_content": null,
            "justify_items": null,
            "left": null,
            "margin": null,
            "max_height": null,
            "max_width": null,
            "min_height": null,
            "min_width": null,
            "object_fit": null,
            "object_position": null,
            "order": null,
            "overflow": null,
            "overflow_x": null,
            "overflow_y": null,
            "padding": null,
            "right": null,
            "top": null,
            "visibility": null,
            "width": null
          }
        },
        "d886dbed79694ba7937ca8017cada975": {
          "model_module": "@jupyter-widgets/controls",
          "model_module_version": "1.5.0",
          "model_name": "DescriptionStyleModel",
          "state": {
            "_model_module": "@jupyter-widgets/controls",
            "_model_module_version": "1.5.0",
            "_model_name": "DescriptionStyleModel",
            "_view_count": null,
            "_view_module": "@jupyter-widgets/base",
            "_view_module_version": "1.2.0",
            "_view_name": "StyleView",
            "description_width": ""
          }
        },
        "e2e8f5060129494097cff6b0cdc12647": {
          "model_module": "@jupyter-widgets/base",
          "model_module_version": "1.2.0",
          "model_name": "LayoutModel",
          "state": {
            "_model_module": "@jupyter-widgets/base",
            "_model_module_version": "1.2.0",
            "_model_name": "LayoutModel",
            "_view_count": null,
            "_view_module": "@jupyter-widgets/base",
            "_view_module_version": "1.2.0",
            "_view_name": "LayoutView",
            "align_content": null,
            "align_items": null,
            "align_self": null,
            "border": null,
            "bottom": null,
            "display": null,
            "flex": null,
            "flex_flow": null,
            "grid_area": null,
            "grid_auto_columns": null,
            "grid_auto_flow": null,
            "grid_auto_rows": null,
            "grid_column": null,
            "grid_gap": null,
            "grid_row": null,
            "grid_template_areas": null,
            "grid_template_columns": null,
            "grid_template_rows": null,
            "height": null,
            "justify_content": null,
            "justify_items": null,
            "left": null,
            "margin": null,
            "max_height": null,
            "max_width": null,
            "min_height": null,
            "min_width": null,
            "object_fit": null,
            "object_position": null,
            "order": null,
            "overflow": null,
            "overflow_x": null,
            "overflow_y": null,
            "padding": null,
            "right": null,
            "top": null,
            "visibility": null,
            "width": null
          }
        },
        "e8618e1b9e8f493bb37735d10cc8c6b1": {
          "model_module": "@jupyter-widgets/controls",
          "model_module_version": "1.5.0",
          "model_name": "HBoxModel",
          "state": {
            "_dom_classes": [],
            "_model_module": "@jupyter-widgets/controls",
            "_model_module_version": "1.5.0",
            "_model_name": "HBoxModel",
            "_view_count": null,
            "_view_module": "@jupyter-widgets/controls",
            "_view_module_version": "1.5.0",
            "_view_name": "HBoxView",
            "box_style": "",
            "children": [
              "IPY_MODEL_c8634695782446bbbf2888eb470774b0",
              "IPY_MODEL_ad79ddcd88e448e49f14e2bc3513690f",
              "IPY_MODEL_c4e79b04898044ffb4d9bf135fde4ea8"
            ],
            "layout": "IPY_MODEL_c435922c3d264dfb8394cb7bf283e68b"
          }
        },
        "ec0097d429d0426e9ca4ab7d796407df": {
          "model_module": "@jupyter-widgets/base",
          "model_module_version": "1.2.0",
          "model_name": "LayoutModel",
          "state": {
            "_model_module": "@jupyter-widgets/base",
            "_model_module_version": "1.2.0",
            "_model_name": "LayoutModel",
            "_view_count": null,
            "_view_module": "@jupyter-widgets/base",
            "_view_module_version": "1.2.0",
            "_view_name": "LayoutView",
            "align_content": null,
            "align_items": null,
            "align_self": null,
            "border": null,
            "bottom": null,
            "display": null,
            "flex": null,
            "flex_flow": null,
            "grid_area": null,
            "grid_auto_columns": null,
            "grid_auto_flow": null,
            "grid_auto_rows": null,
            "grid_column": null,
            "grid_gap": null,
            "grid_row": null,
            "grid_template_areas": null,
            "grid_template_columns": null,
            "grid_template_rows": null,
            "height": null,
            "justify_content": null,
            "justify_items": null,
            "left": null,
            "margin": null,
            "max_height": null,
            "max_width": null,
            "min_height": null,
            "min_width": null,
            "object_fit": null,
            "object_position": null,
            "order": null,
            "overflow": null,
            "overflow_x": null,
            "overflow_y": null,
            "padding": null,
            "right": null,
            "top": null,
            "visibility": null,
            "width": null
          }
        },
        "ee89f84ef12d449abcb518609d3f2d9d": {
          "model_module": "@jupyter-widgets/base",
          "model_module_version": "1.2.0",
          "model_name": "LayoutModel",
          "state": {
            "_model_module": "@jupyter-widgets/base",
            "_model_module_version": "1.2.0",
            "_model_name": "LayoutModel",
            "_view_count": null,
            "_view_module": "@jupyter-widgets/base",
            "_view_module_version": "1.2.0",
            "_view_name": "LayoutView",
            "align_content": null,
            "align_items": null,
            "align_self": null,
            "border": null,
            "bottom": null,
            "display": null,
            "flex": null,
            "flex_flow": null,
            "grid_area": null,
            "grid_auto_columns": null,
            "grid_auto_flow": null,
            "grid_auto_rows": null,
            "grid_column": null,
            "grid_gap": null,
            "grid_row": null,
            "grid_template_areas": null,
            "grid_template_columns": null,
            "grid_template_rows": null,
            "height": null,
            "justify_content": null,
            "justify_items": null,
            "left": null,
            "margin": null,
            "max_height": null,
            "max_width": null,
            "min_height": null,
            "min_width": null,
            "object_fit": null,
            "object_position": null,
            "order": null,
            "overflow": null,
            "overflow_x": null,
            "overflow_y": null,
            "padding": null,
            "right": null,
            "top": null,
            "visibility": null,
            "width": null
          }
        },
        "f2b06e4f071f4415a993397d8bf78126": {
          "model_module": "@jupyter-widgets/base",
          "model_module_version": "1.2.0",
          "model_name": "LayoutModel",
          "state": {
            "_model_module": "@jupyter-widgets/base",
            "_model_module_version": "1.2.0",
            "_model_name": "LayoutModel",
            "_view_count": null,
            "_view_module": "@jupyter-widgets/base",
            "_view_module_version": "1.2.0",
            "_view_name": "LayoutView",
            "align_content": null,
            "align_items": null,
            "align_self": null,
            "border": null,
            "bottom": null,
            "display": null,
            "flex": null,
            "flex_flow": null,
            "grid_area": null,
            "grid_auto_columns": null,
            "grid_auto_flow": null,
            "grid_auto_rows": null,
            "grid_column": null,
            "grid_gap": null,
            "grid_row": null,
            "grid_template_areas": null,
            "grid_template_columns": null,
            "grid_template_rows": null,
            "height": null,
            "justify_content": null,
            "justify_items": null,
            "left": null,
            "margin": null,
            "max_height": null,
            "max_width": null,
            "min_height": null,
            "min_width": null,
            "object_fit": null,
            "object_position": null,
            "order": null,
            "overflow": null,
            "overflow_x": null,
            "overflow_y": null,
            "padding": null,
            "right": null,
            "top": null,
            "visibility": null,
            "width": null
          }
        },
        "f3ef23c88b584c1da6154eda36264d37": {
          "model_module": "@jupyter-widgets/controls",
          "model_module_version": "1.5.0",
          "model_name": "DescriptionStyleModel",
          "state": {
            "_model_module": "@jupyter-widgets/controls",
            "_model_module_version": "1.5.0",
            "_model_name": "DescriptionStyleModel",
            "_view_count": null,
            "_view_module": "@jupyter-widgets/base",
            "_view_module_version": "1.2.0",
            "_view_name": "StyleView",
            "description_width": ""
          }
        },
        "f995b5308dda472d995cd299b3d5b470": {
          "model_module": "@jupyter-widgets/controls",
          "model_module_version": "1.5.0",
          "model_name": "HBoxModel",
          "state": {
            "_dom_classes": [],
            "_model_module": "@jupyter-widgets/controls",
            "_model_module_version": "1.5.0",
            "_model_name": "HBoxModel",
            "_view_count": null,
            "_view_module": "@jupyter-widgets/controls",
            "_view_module_version": "1.5.0",
            "_view_name": "HBoxView",
            "box_style": "",
            "children": [
              "IPY_MODEL_1947dc6887fa4933b28099e0ac8c9662",
              "IPY_MODEL_8df8334ca1494914a9318bd5d8199bfe",
              "IPY_MODEL_a4190b988f2e4adfb93529d85f7e2c00"
            ],
            "layout": "IPY_MODEL_2a06030b1f1245be853a3f88d6d49cb3"
          }
        }
      }
    }
  },
  "nbformat": 4,
  "nbformat_minor": 0
}
